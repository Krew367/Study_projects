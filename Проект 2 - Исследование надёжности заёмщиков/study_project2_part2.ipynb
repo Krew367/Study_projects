{
 "cells": [
  {
   "cell_type": "markdown",
   "id": "c81daeeb",
   "metadata": {
    "deletable": false,
    "id": "c81daeeb"
   },
   "source": [
    "# Исследование надежности заемщиков\n"
   ]
  },
  {
   "cell_type": "markdown",
   "id": "827c20bf",
   "metadata": {
    "id": "827c20bf"
   },
   "source": [
    "Во второй части проекта вы выполните шаги 3 и 4. Их вручную проверит ревьюер.\n",
    "Чтобы вам не пришлось писать код заново для шагов 1 и 2, мы добавили авторские решения в ячейки с кодом. \n",
    "\n"
   ]
  },
  {
   "cell_type": "markdown",
   "id": "744d7639",
   "metadata": {
    "deletable": false,
    "id": "744d7639"
   },
   "source": [
    "## Откройте таблицу и изучите общую информацию о данных"
   ]
  },
  {
   "cell_type": "markdown",
   "id": "e7a14c31",
   "metadata": {
    "deletable": false,
    "id": "e7a14c31"
   },
   "source": [
    "**Задание 1. Импортируйте библиотеку pandas. Считайте данные из csv-файла в датафрейм и сохраните в переменную `data`. Путь к файлу:**\n",
    "\n",
    "`/datasets/data.csv`"
   ]
  },
  {
   "cell_type": "code",
   "execution_count": 1,
   "id": "7bcf75c9",
   "metadata": {
    "deletable": false,
    "id": "7bcf75c9"
   },
   "outputs": [],
   "source": [
    "import pandas as pd\n",
    "\n",
    "try:\n",
    "    data = pd.read_csv('/datasets/data.csv')\n",
    "except:\n",
    "    data = pd.read_csv('https://code.s3.yandex.net/datasets/data.csv')"
   ]
  },
  {
   "cell_type": "markdown",
   "id": "b8038fe3",
   "metadata": {
    "deletable": false,
    "id": "b8038fe3"
   },
   "source": [
    "**Задание 2. Выведите первые 20 строчек датафрейма `data` на экран.**"
   ]
  },
  {
   "cell_type": "code",
   "execution_count": 2,
   "id": "2a7cab99",
   "metadata": {
    "deletable": false,
    "id": "2a7cab99",
    "outputId": "1a8f3ef2-d323-4ec2-ddf7-89670b5944c4"
   },
   "outputs": [
    {
     "data": {
      "text/html": [
       "<div>\n",
       "<style scoped>\n",
       "    .dataframe tbody tr th:only-of-type {\n",
       "        vertical-align: middle;\n",
       "    }\n",
       "\n",
       "    .dataframe tbody tr th {\n",
       "        vertical-align: top;\n",
       "    }\n",
       "\n",
       "    .dataframe thead th {\n",
       "        text-align: right;\n",
       "    }\n",
       "</style>\n",
       "<table border=\"1\" class=\"dataframe\">\n",
       "  <thead>\n",
       "    <tr style=\"text-align: right;\">\n",
       "      <th></th>\n",
       "      <th>children</th>\n",
       "      <th>days_employed</th>\n",
       "      <th>dob_years</th>\n",
       "      <th>education</th>\n",
       "      <th>education_id</th>\n",
       "      <th>family_status</th>\n",
       "      <th>family_status_id</th>\n",
       "      <th>gender</th>\n",
       "      <th>income_type</th>\n",
       "      <th>debt</th>\n",
       "      <th>total_income</th>\n",
       "      <th>purpose</th>\n",
       "    </tr>\n",
       "  </thead>\n",
       "  <tbody>\n",
       "    <tr>\n",
       "      <th>0</th>\n",
       "      <td>1</td>\n",
       "      <td>-8437.673028</td>\n",
       "      <td>42</td>\n",
       "      <td>высшее</td>\n",
       "      <td>0</td>\n",
       "      <td>женат / замужем</td>\n",
       "      <td>0</td>\n",
       "      <td>F</td>\n",
       "      <td>сотрудник</td>\n",
       "      <td>0</td>\n",
       "      <td>253875.639453</td>\n",
       "      <td>покупка жилья</td>\n",
       "    </tr>\n",
       "    <tr>\n",
       "      <th>1</th>\n",
       "      <td>1</td>\n",
       "      <td>-4024.803754</td>\n",
       "      <td>36</td>\n",
       "      <td>среднее</td>\n",
       "      <td>1</td>\n",
       "      <td>женат / замужем</td>\n",
       "      <td>0</td>\n",
       "      <td>F</td>\n",
       "      <td>сотрудник</td>\n",
       "      <td>0</td>\n",
       "      <td>112080.014102</td>\n",
       "      <td>приобретение автомобиля</td>\n",
       "    </tr>\n",
       "    <tr>\n",
       "      <th>2</th>\n",
       "      <td>0</td>\n",
       "      <td>-5623.422610</td>\n",
       "      <td>33</td>\n",
       "      <td>Среднее</td>\n",
       "      <td>1</td>\n",
       "      <td>женат / замужем</td>\n",
       "      <td>0</td>\n",
       "      <td>M</td>\n",
       "      <td>сотрудник</td>\n",
       "      <td>0</td>\n",
       "      <td>145885.952297</td>\n",
       "      <td>покупка жилья</td>\n",
       "    </tr>\n",
       "    <tr>\n",
       "      <th>3</th>\n",
       "      <td>3</td>\n",
       "      <td>-4124.747207</td>\n",
       "      <td>32</td>\n",
       "      <td>среднее</td>\n",
       "      <td>1</td>\n",
       "      <td>женат / замужем</td>\n",
       "      <td>0</td>\n",
       "      <td>M</td>\n",
       "      <td>сотрудник</td>\n",
       "      <td>0</td>\n",
       "      <td>267628.550329</td>\n",
       "      <td>дополнительное образование</td>\n",
       "    </tr>\n",
       "    <tr>\n",
       "      <th>4</th>\n",
       "      <td>0</td>\n",
       "      <td>340266.072047</td>\n",
       "      <td>53</td>\n",
       "      <td>среднее</td>\n",
       "      <td>1</td>\n",
       "      <td>гражданский брак</td>\n",
       "      <td>1</td>\n",
       "      <td>F</td>\n",
       "      <td>пенсионер</td>\n",
       "      <td>0</td>\n",
       "      <td>158616.077870</td>\n",
       "      <td>сыграть свадьбу</td>\n",
       "    </tr>\n",
       "    <tr>\n",
       "      <th>5</th>\n",
       "      <td>0</td>\n",
       "      <td>-926.185831</td>\n",
       "      <td>27</td>\n",
       "      <td>высшее</td>\n",
       "      <td>0</td>\n",
       "      <td>гражданский брак</td>\n",
       "      <td>1</td>\n",
       "      <td>M</td>\n",
       "      <td>компаньон</td>\n",
       "      <td>0</td>\n",
       "      <td>255763.565419</td>\n",
       "      <td>покупка жилья</td>\n",
       "    </tr>\n",
       "    <tr>\n",
       "      <th>6</th>\n",
       "      <td>0</td>\n",
       "      <td>-2879.202052</td>\n",
       "      <td>43</td>\n",
       "      <td>высшее</td>\n",
       "      <td>0</td>\n",
       "      <td>женат / замужем</td>\n",
       "      <td>0</td>\n",
       "      <td>F</td>\n",
       "      <td>компаньон</td>\n",
       "      <td>0</td>\n",
       "      <td>240525.971920</td>\n",
       "      <td>операции с жильем</td>\n",
       "    </tr>\n",
       "    <tr>\n",
       "      <th>7</th>\n",
       "      <td>0</td>\n",
       "      <td>-152.779569</td>\n",
       "      <td>50</td>\n",
       "      <td>СРЕДНЕЕ</td>\n",
       "      <td>1</td>\n",
       "      <td>женат / замужем</td>\n",
       "      <td>0</td>\n",
       "      <td>M</td>\n",
       "      <td>сотрудник</td>\n",
       "      <td>0</td>\n",
       "      <td>135823.934197</td>\n",
       "      <td>образование</td>\n",
       "    </tr>\n",
       "    <tr>\n",
       "      <th>8</th>\n",
       "      <td>2</td>\n",
       "      <td>-6929.865299</td>\n",
       "      <td>35</td>\n",
       "      <td>ВЫСШЕЕ</td>\n",
       "      <td>0</td>\n",
       "      <td>гражданский брак</td>\n",
       "      <td>1</td>\n",
       "      <td>F</td>\n",
       "      <td>сотрудник</td>\n",
       "      <td>0</td>\n",
       "      <td>95856.832424</td>\n",
       "      <td>на проведение свадьбы</td>\n",
       "    </tr>\n",
       "    <tr>\n",
       "      <th>9</th>\n",
       "      <td>0</td>\n",
       "      <td>-2188.756445</td>\n",
       "      <td>41</td>\n",
       "      <td>среднее</td>\n",
       "      <td>1</td>\n",
       "      <td>женат / замужем</td>\n",
       "      <td>0</td>\n",
       "      <td>M</td>\n",
       "      <td>сотрудник</td>\n",
       "      <td>0</td>\n",
       "      <td>144425.938277</td>\n",
       "      <td>покупка жилья для семьи</td>\n",
       "    </tr>\n",
       "    <tr>\n",
       "      <th>10</th>\n",
       "      <td>2</td>\n",
       "      <td>-4171.483647</td>\n",
       "      <td>36</td>\n",
       "      <td>высшее</td>\n",
       "      <td>0</td>\n",
       "      <td>женат / замужем</td>\n",
       "      <td>0</td>\n",
       "      <td>M</td>\n",
       "      <td>компаньон</td>\n",
       "      <td>0</td>\n",
       "      <td>113943.491460</td>\n",
       "      <td>покупка недвижимости</td>\n",
       "    </tr>\n",
       "    <tr>\n",
       "      <th>11</th>\n",
       "      <td>0</td>\n",
       "      <td>-792.701887</td>\n",
       "      <td>40</td>\n",
       "      <td>среднее</td>\n",
       "      <td>1</td>\n",
       "      <td>женат / замужем</td>\n",
       "      <td>0</td>\n",
       "      <td>F</td>\n",
       "      <td>сотрудник</td>\n",
       "      <td>0</td>\n",
       "      <td>77069.234271</td>\n",
       "      <td>покупка коммерческой недвижимости</td>\n",
       "    </tr>\n",
       "    <tr>\n",
       "      <th>12</th>\n",
       "      <td>0</td>\n",
       "      <td>NaN</td>\n",
       "      <td>65</td>\n",
       "      <td>среднее</td>\n",
       "      <td>1</td>\n",
       "      <td>гражданский брак</td>\n",
       "      <td>1</td>\n",
       "      <td>M</td>\n",
       "      <td>пенсионер</td>\n",
       "      <td>0</td>\n",
       "      <td>NaN</td>\n",
       "      <td>сыграть свадьбу</td>\n",
       "    </tr>\n",
       "    <tr>\n",
       "      <th>13</th>\n",
       "      <td>0</td>\n",
       "      <td>-1846.641941</td>\n",
       "      <td>54</td>\n",
       "      <td>неоконченное высшее</td>\n",
       "      <td>2</td>\n",
       "      <td>женат / замужем</td>\n",
       "      <td>0</td>\n",
       "      <td>F</td>\n",
       "      <td>сотрудник</td>\n",
       "      <td>0</td>\n",
       "      <td>130458.228857</td>\n",
       "      <td>приобретение автомобиля</td>\n",
       "    </tr>\n",
       "    <tr>\n",
       "      <th>14</th>\n",
       "      <td>0</td>\n",
       "      <td>-1844.956182</td>\n",
       "      <td>56</td>\n",
       "      <td>высшее</td>\n",
       "      <td>0</td>\n",
       "      <td>гражданский брак</td>\n",
       "      <td>1</td>\n",
       "      <td>F</td>\n",
       "      <td>компаньон</td>\n",
       "      <td>1</td>\n",
       "      <td>165127.911772</td>\n",
       "      <td>покупка жилой недвижимости</td>\n",
       "    </tr>\n",
       "    <tr>\n",
       "      <th>15</th>\n",
       "      <td>1</td>\n",
       "      <td>-972.364419</td>\n",
       "      <td>26</td>\n",
       "      <td>среднее</td>\n",
       "      <td>1</td>\n",
       "      <td>женат / замужем</td>\n",
       "      <td>0</td>\n",
       "      <td>F</td>\n",
       "      <td>сотрудник</td>\n",
       "      <td>0</td>\n",
       "      <td>116820.904450</td>\n",
       "      <td>строительство собственной недвижимости</td>\n",
       "    </tr>\n",
       "    <tr>\n",
       "      <th>16</th>\n",
       "      <td>0</td>\n",
       "      <td>-1719.934226</td>\n",
       "      <td>35</td>\n",
       "      <td>среднее</td>\n",
       "      <td>1</td>\n",
       "      <td>женат / замужем</td>\n",
       "      <td>0</td>\n",
       "      <td>F</td>\n",
       "      <td>сотрудник</td>\n",
       "      <td>0</td>\n",
       "      <td>289202.704229</td>\n",
       "      <td>недвижимость</td>\n",
       "    </tr>\n",
       "    <tr>\n",
       "      <th>17</th>\n",
       "      <td>0</td>\n",
       "      <td>-2369.999720</td>\n",
       "      <td>33</td>\n",
       "      <td>высшее</td>\n",
       "      <td>0</td>\n",
       "      <td>гражданский брак</td>\n",
       "      <td>1</td>\n",
       "      <td>M</td>\n",
       "      <td>сотрудник</td>\n",
       "      <td>0</td>\n",
       "      <td>90410.586745</td>\n",
       "      <td>строительство недвижимости</td>\n",
       "    </tr>\n",
       "    <tr>\n",
       "      <th>18</th>\n",
       "      <td>0</td>\n",
       "      <td>400281.136913</td>\n",
       "      <td>53</td>\n",
       "      <td>среднее</td>\n",
       "      <td>1</td>\n",
       "      <td>вдовец / вдова</td>\n",
       "      <td>2</td>\n",
       "      <td>F</td>\n",
       "      <td>пенсионер</td>\n",
       "      <td>0</td>\n",
       "      <td>56823.777243</td>\n",
       "      <td>на покупку подержанного автомобиля</td>\n",
       "    </tr>\n",
       "    <tr>\n",
       "      <th>19</th>\n",
       "      <td>0</td>\n",
       "      <td>-10038.818549</td>\n",
       "      <td>48</td>\n",
       "      <td>СРЕДНЕЕ</td>\n",
       "      <td>1</td>\n",
       "      <td>в разводе</td>\n",
       "      <td>3</td>\n",
       "      <td>F</td>\n",
       "      <td>сотрудник</td>\n",
       "      <td>0</td>\n",
       "      <td>242831.107982</td>\n",
       "      <td>на покупку своего автомобиля</td>\n",
       "    </tr>\n",
       "  </tbody>\n",
       "</table>\n",
       "</div>"
      ],
      "text/plain": [
       "    children  days_employed  dob_years            education  education_id  \\\n",
       "0          1   -8437.673028         42               высшее             0   \n",
       "1          1   -4024.803754         36              среднее             1   \n",
       "2          0   -5623.422610         33              Среднее             1   \n",
       "3          3   -4124.747207         32              среднее             1   \n",
       "4          0  340266.072047         53              среднее             1   \n",
       "5          0    -926.185831         27               высшее             0   \n",
       "6          0   -2879.202052         43               высшее             0   \n",
       "7          0    -152.779569         50              СРЕДНЕЕ             1   \n",
       "8          2   -6929.865299         35               ВЫСШЕЕ             0   \n",
       "9          0   -2188.756445         41              среднее             1   \n",
       "10         2   -4171.483647         36               высшее             0   \n",
       "11         0    -792.701887         40              среднее             1   \n",
       "12         0            NaN         65              среднее             1   \n",
       "13         0   -1846.641941         54  неоконченное высшее             2   \n",
       "14         0   -1844.956182         56               высшее             0   \n",
       "15         1    -972.364419         26              среднее             1   \n",
       "16         0   -1719.934226         35              среднее             1   \n",
       "17         0   -2369.999720         33               высшее             0   \n",
       "18         0  400281.136913         53              среднее             1   \n",
       "19         0  -10038.818549         48              СРЕДНЕЕ             1   \n",
       "\n",
       "       family_status  family_status_id gender income_type  debt  \\\n",
       "0    женат / замужем                 0      F   сотрудник     0   \n",
       "1    женат / замужем                 0      F   сотрудник     0   \n",
       "2    женат / замужем                 0      M   сотрудник     0   \n",
       "3    женат / замужем                 0      M   сотрудник     0   \n",
       "4   гражданский брак                 1      F   пенсионер     0   \n",
       "5   гражданский брак                 1      M   компаньон     0   \n",
       "6    женат / замужем                 0      F   компаньон     0   \n",
       "7    женат / замужем                 0      M   сотрудник     0   \n",
       "8   гражданский брак                 1      F   сотрудник     0   \n",
       "9    женат / замужем                 0      M   сотрудник     0   \n",
       "10   женат / замужем                 0      M   компаньон     0   \n",
       "11   женат / замужем                 0      F   сотрудник     0   \n",
       "12  гражданский брак                 1      M   пенсионер     0   \n",
       "13   женат / замужем                 0      F   сотрудник     0   \n",
       "14  гражданский брак                 1      F   компаньон     1   \n",
       "15   женат / замужем                 0      F   сотрудник     0   \n",
       "16   женат / замужем                 0      F   сотрудник     0   \n",
       "17  гражданский брак                 1      M   сотрудник     0   \n",
       "18    вдовец / вдова                 2      F   пенсионер     0   \n",
       "19         в разводе                 3      F   сотрудник     0   \n",
       "\n",
       "     total_income                                 purpose  \n",
       "0   253875.639453                           покупка жилья  \n",
       "1   112080.014102                 приобретение автомобиля  \n",
       "2   145885.952297                           покупка жилья  \n",
       "3   267628.550329              дополнительное образование  \n",
       "4   158616.077870                         сыграть свадьбу  \n",
       "5   255763.565419                           покупка жилья  \n",
       "6   240525.971920                       операции с жильем  \n",
       "7   135823.934197                             образование  \n",
       "8    95856.832424                   на проведение свадьбы  \n",
       "9   144425.938277                 покупка жилья для семьи  \n",
       "10  113943.491460                    покупка недвижимости  \n",
       "11   77069.234271       покупка коммерческой недвижимости  \n",
       "12            NaN                         сыграть свадьбу  \n",
       "13  130458.228857                 приобретение автомобиля  \n",
       "14  165127.911772              покупка жилой недвижимости  \n",
       "15  116820.904450  строительство собственной недвижимости  \n",
       "16  289202.704229                            недвижимость  \n",
       "17   90410.586745              строительство недвижимости  \n",
       "18   56823.777243      на покупку подержанного автомобиля  \n",
       "19  242831.107982            на покупку своего автомобиля  "
      ]
     },
     "execution_count": 2,
     "metadata": {},
     "output_type": "execute_result"
    }
   ],
   "source": [
    "data.head(20)"
   ]
  },
  {
   "cell_type": "markdown",
   "id": "1c12e233",
   "metadata": {
    "deletable": false,
    "id": "1c12e233"
   },
   "source": [
    "**Задание 3. Выведите основную информацию о датафрейме с помощью метода `info()`.**"
   ]
  },
  {
   "cell_type": "code",
   "execution_count": 3,
   "id": "2b757bca",
   "metadata": {
    "deletable": false,
    "id": "2b757bca",
    "outputId": "15376089-8dad-46c9-b520-c05248d43158"
   },
   "outputs": [
    {
     "name": "stdout",
     "output_type": "stream",
     "text": [
      "<class 'pandas.core.frame.DataFrame'>\n",
      "RangeIndex: 21525 entries, 0 to 21524\n",
      "Data columns (total 12 columns):\n",
      " #   Column            Non-Null Count  Dtype  \n",
      "---  ------            --------------  -----  \n",
      " 0   children          21525 non-null  int64  \n",
      " 1   days_employed     19351 non-null  float64\n",
      " 2   dob_years         21525 non-null  int64  \n",
      " 3   education         21525 non-null  object \n",
      " 4   education_id      21525 non-null  int64  \n",
      " 5   family_status     21525 non-null  object \n",
      " 6   family_status_id  21525 non-null  int64  \n",
      " 7   gender            21525 non-null  object \n",
      " 8   income_type       21525 non-null  object \n",
      " 9   debt              21525 non-null  int64  \n",
      " 10  total_income      19351 non-null  float64\n",
      " 11  purpose           21525 non-null  object \n",
      "dtypes: float64(2), int64(5), object(5)\n",
      "memory usage: 2.0+ MB\n"
     ]
    }
   ],
   "source": [
    "data.info()"
   ]
  },
  {
   "cell_type": "markdown",
   "id": "333ec665",
   "metadata": {
    "deletable": false,
    "id": "333ec665"
   },
   "source": [
    "## Предобработка данных"
   ]
  },
  {
   "cell_type": "markdown",
   "id": "02d92d53",
   "metadata": {
    "deletable": false,
    "id": "02d92d53"
   },
   "source": [
    "### Удаление пропусков"
   ]
  },
  {
   "cell_type": "markdown",
   "id": "cd84967c",
   "metadata": {
    "deletable": false,
    "id": "cd84967c"
   },
   "source": [
    "**Задание 4. Выведите количество пропущенных значений для каждого столбца. Используйте комбинацию двух методов.**"
   ]
  },
  {
   "cell_type": "code",
   "execution_count": 4,
   "id": "7f9b2309",
   "metadata": {
    "deletable": false,
    "id": "7f9b2309",
    "outputId": "81f4d817-781c-465c-ed15-91ce4446810d"
   },
   "outputs": [
    {
     "data": {
      "text/plain": [
       "children               0\n",
       "days_employed       2174\n",
       "dob_years              0\n",
       "education              0\n",
       "education_id           0\n",
       "family_status          0\n",
       "family_status_id       0\n",
       "gender                 0\n",
       "income_type            0\n",
       "debt                   0\n",
       "total_income        2174\n",
       "purpose                0\n",
       "dtype: int64"
      ]
     },
     "execution_count": 4,
     "metadata": {},
     "output_type": "execute_result"
    }
   ],
   "source": [
    "data.isna().sum()"
   ]
  },
  {
   "cell_type": "markdown",
   "id": "db86e27b",
   "metadata": {
    "deletable": false,
    "id": "db86e27b"
   },
   "source": [
    "**Задание 5. В двух столбцах есть пропущенные значения. Один из них — `days_employed`. Пропуски в этом столбце вы обработаете на следующем этапе. Другой столбец с пропущенными значениями — `total_income` — хранит данные о доходах. На сумму дохода сильнее всего влияет тип занятости, поэтому заполнить пропуски в этом столбце нужно медианным значением по каждому типу из столбца `income_type`. Например, у человека с типом занятости `сотрудник` пропуск в столбце `total_income` должен быть заполнен медианным доходом среди всех записей с тем же типом.**"
   ]
  },
  {
   "cell_type": "code",
   "execution_count": 5,
   "id": "42006a93",
   "metadata": {
    "deletable": false,
    "id": "42006a93"
   },
   "outputs": [],
   "source": [
    "for t in data['income_type'].unique():\n",
    "    data.loc[(data['income_type'] == t) & (data['total_income'].isna()), 'total_income'] = \\\n",
    "    data.loc[(data['income_type'] == t), 'total_income'].median()"
   ]
  },
  {
   "cell_type": "markdown",
   "id": "89da5ece",
   "metadata": {
    "deletable": false,
    "id": "89da5ece"
   },
   "source": [
    "### Обработка аномальных значений"
   ]
  },
  {
   "cell_type": "markdown",
   "id": "57964554",
   "metadata": {
    "deletable": false,
    "id": "57964554"
   },
   "source": [
    "**Задание 6. В данных могут встречаться артефакты (аномалии) — значения, которые не отражают действительность и появились по какой-то ошибке. таким артефактом будет отрицательное количество дней трудового стажа в столбце `days_employed`. Для реальных данных это нормально. Обработайте значения в этом столбце: замените все отрицательные значения положительными с помощью метода `abs()`.**"
   ]
  },
  {
   "cell_type": "code",
   "execution_count": 6,
   "id": "f6f055bf",
   "metadata": {
    "deletable": false,
    "id": "f6f055bf"
   },
   "outputs": [],
   "source": [
    "data['days_employed'] = data['days_employed'].abs()"
   ]
  },
  {
   "cell_type": "markdown",
   "id": "6107dd2f",
   "metadata": {
    "deletable": false,
    "id": "6107dd2f"
   },
   "source": [
    "**Задание 7. Для каждого типа занятости выведите медианное значение трудового стажа `days_employed` в днях.**"
   ]
  },
  {
   "cell_type": "code",
   "execution_count": 7,
   "id": "85a5faf6",
   "metadata": {
    "deletable": false,
    "id": "85a5faf6",
    "outputId": "801ef80e-522b-4668-f34e-565af7432bcf"
   },
   "outputs": [
    {
     "data": {
      "text/plain": [
       "income_type\n",
       "безработный        366413.652744\n",
       "в декрете            3296.759962\n",
       "госслужащий          2689.368353\n",
       "компаньон            1547.382223\n",
       "пенсионер          365213.306266\n",
       "предприниматель       520.848083\n",
       "сотрудник            1574.202821\n",
       "студент               578.751554\n",
       "Name: days_employed, dtype: float64"
      ]
     },
     "execution_count": 7,
     "metadata": {},
     "output_type": "execute_result"
    }
   ],
   "source": [
    "data.groupby('income_type')['days_employed'].agg('median')"
   ]
  },
  {
   "cell_type": "markdown",
   "id": "38d1a030",
   "metadata": {
    "deletable": false,
    "id": "38d1a030"
   },
   "source": [
    "У двух типов (безработные и пенсионеры) получатся аномально большие значения. Исправить такие значения сложно, поэтому оставьте их как есть. Тем более этот столбец не понадобится вам для исследования."
   ]
  },
  {
   "cell_type": "markdown",
   "id": "d8a9f147",
   "metadata": {
    "deletable": false,
    "id": "d8a9f147"
   },
   "source": [
    "**Задание 8. Выведите перечень уникальных значений столбца `children`.**"
   ]
  },
  {
   "cell_type": "code",
   "execution_count": 8,
   "id": "ef5056eb",
   "metadata": {
    "deletable": false,
    "id": "ef5056eb",
    "outputId": "6975b15c-7f95-4697-d16d-a0c79b657b03"
   },
   "outputs": [
    {
     "data": {
      "text/plain": [
       "array([ 1,  0,  3,  2, -1,  4, 20,  5])"
      ]
     },
     "execution_count": 8,
     "metadata": {},
     "output_type": "execute_result"
    }
   ],
   "source": [
    "data['children'].unique()"
   ]
  },
  {
   "cell_type": "markdown",
   "id": "40b9ebf2",
   "metadata": {
    "deletable": false,
    "id": "40b9ebf2"
   },
   "source": [
    "**Задание 9. В столбце `children` есть два аномальных значения. Удалите строки, в которых встречаются такие аномальные значения из датафрейма `data`.**"
   ]
  },
  {
   "cell_type": "code",
   "execution_count": 9,
   "id": "3ff9801d",
   "metadata": {
    "deletable": false,
    "id": "3ff9801d"
   },
   "outputs": [],
   "source": [
    "data = data[(data['children'] != -1) & (data['children'] != 20)]"
   ]
  },
  {
   "cell_type": "markdown",
   "id": "bbc4d0ce",
   "metadata": {
    "deletable": false,
    "id": "bbc4d0ce"
   },
   "source": [
    "**Задание 10. Ещё раз выведите перечень уникальных значений столбца `children`, чтобы убедиться, что артефакты удалены.**"
   ]
  },
  {
   "cell_type": "code",
   "execution_count": 10,
   "id": "ad4fa8b7",
   "metadata": {
    "deletable": false,
    "id": "ad4fa8b7",
    "outputId": "b2097101-d49d-44d9-901b-32a65c9463d1"
   },
   "outputs": [
    {
     "data": {
      "text/plain": [
       "array([1, 0, 3, 2, 4, 5])"
      ]
     },
     "execution_count": 10,
     "metadata": {},
     "output_type": "execute_result"
    }
   ],
   "source": [
    "data['children'].unique()"
   ]
  },
  {
   "cell_type": "markdown",
   "id": "75440b63",
   "metadata": {
    "deletable": false,
    "id": "75440b63"
   },
   "source": [
    "### Удаление пропусков (продолжение)"
   ]
  },
  {
   "cell_type": "markdown",
   "id": "f4ea573f",
   "metadata": {
    "deletable": false,
    "id": "f4ea573f"
   },
   "source": [
    "**Задание 11. Заполните пропуски в столбце `days_employed` медианными значениями по каждого типа занятости `income_type`.**"
   ]
  },
  {
   "cell_type": "code",
   "execution_count": 11,
   "id": "af6b1a7e",
   "metadata": {
    "deletable": false,
    "id": "af6b1a7e"
   },
   "outputs": [],
   "source": [
    "for t in data['income_type'].unique():\n",
    "    data.loc[(data['income_type'] == t) & (data['days_employed'].isna()), 'days_employed'] = \\\n",
    "    data.loc[(data['income_type'] == t), 'days_employed'].median()"
   ]
  },
  {
   "cell_type": "markdown",
   "id": "2753f40d",
   "metadata": {
    "deletable": false,
    "id": "2753f40d"
   },
   "source": [
    "**Задание 12. Убедитесь, что все пропуски заполнены. Проверьте себя и ещё раз выведите количество пропущенных значений для каждого столбца с помощью двух методов.**"
   ]
  },
  {
   "cell_type": "code",
   "execution_count": 12,
   "id": "55f78bc2",
   "metadata": {
    "deletable": false,
    "id": "55f78bc2",
    "outputId": "8da1e4e1-358e-4e87-98c9-f261bce0a7b2"
   },
   "outputs": [
    {
     "data": {
      "text/plain": [
       "children            0\n",
       "days_employed       0\n",
       "dob_years           0\n",
       "education           0\n",
       "education_id        0\n",
       "family_status       0\n",
       "family_status_id    0\n",
       "gender              0\n",
       "income_type         0\n",
       "debt                0\n",
       "total_income        0\n",
       "purpose             0\n",
       "dtype: int64"
      ]
     },
     "execution_count": 12,
     "metadata": {},
     "output_type": "execute_result"
    }
   ],
   "source": [
    "data.isna().sum()"
   ]
  },
  {
   "cell_type": "markdown",
   "id": "ddc81e43",
   "metadata": {
    "deletable": false,
    "id": "ddc81e43"
   },
   "source": [
    "### Изменение типов данных"
   ]
  },
  {
   "cell_type": "markdown",
   "id": "42d19d24",
   "metadata": {
    "deletable": false,
    "id": "42d19d24"
   },
   "source": [
    "**Задание 13. Замените вещественный тип данных в столбце `total_income` на целочисленный с помощью метода `astype()`.**"
   ]
  },
  {
   "cell_type": "code",
   "execution_count": 13,
   "id": "920b65ad",
   "metadata": {
    "deletable": false,
    "id": "920b65ad"
   },
   "outputs": [],
   "source": [
    "data['total_income'] = data['total_income'].astype(int)"
   ]
  },
  {
   "cell_type": "markdown",
   "id": "80c420ba",
   "metadata": {
    "deletable": false,
    "id": "80c420ba"
   },
   "source": [
    "### Обработка дубликатов"
   ]
  },
  {
   "cell_type": "markdown",
   "id": "dc587695",
   "metadata": {
    "deletable": false,
    "id": "dc587695"
   },
   "source": [
    "**Задание 14. Выведите на экран количество строк-дубликатов в данных. Если такие строки присутствуют, удалите их.**"
   ]
  },
  {
   "cell_type": "code",
   "execution_count": 14,
   "id": "3ee445e4",
   "metadata": {
    "deletable": false,
    "id": "3ee445e4",
    "outputId": "9684deba-1934-42d1-99e1-cda61740f822"
   },
   "outputs": [
    {
     "data": {
      "text/plain": [
       "54"
      ]
     },
     "execution_count": 14,
     "metadata": {},
     "output_type": "execute_result"
    }
   ],
   "source": [
    "data.duplicated().sum()"
   ]
  },
  {
   "cell_type": "code",
   "execution_count": 15,
   "id": "8575fe05",
   "metadata": {
    "deletable": false,
    "id": "8575fe05"
   },
   "outputs": [],
   "source": [
    "data = data.drop_duplicates()"
   ]
  },
  {
   "cell_type": "markdown",
   "id": "9771a76c",
   "metadata": {
    "deletable": false,
    "id": "9771a76c"
   },
   "source": [
    "**Задание 15. Обработайте неявные дубликаты в столбце `education`. В этом столбце есть одни и те же значения, но записанные по-разному: с использованием заглавных и строчных букв. Приведите их к нижнему регистру. Проверьте остальные столбцы.**"
   ]
  },
  {
   "cell_type": "code",
   "execution_count": 16,
   "id": "a9f8e2bf",
   "metadata": {
    "deletable": false,
    "id": "a9f8e2bf"
   },
   "outputs": [],
   "source": [
    "data['education'] = data['education'].str.lower()"
   ]
  },
  {
   "cell_type": "markdown",
   "id": "9904cf55",
   "metadata": {
    "deletable": false,
    "id": "9904cf55"
   },
   "source": [
    "### Категоризация данных"
   ]
  },
  {
   "cell_type": "markdown",
   "id": "72fcc8a2",
   "metadata": {
    "deletable": false,
    "id": "72fcc8a2"
   },
   "source": [
    "**Задание 16. На основании диапазонов, указанных ниже, создайте в датафрейме `data` столбец `total_income_category` с категориями:**\n",
    "\n",
    "- 0–30000 — `'E'`;\n",
    "- 30001–50000 — `'D'`;\n",
    "- 50001–200000 — `'C'`;\n",
    "- 200001–1000000 — `'B'`;\n",
    "- 1000001 и выше — `'A'`.\n",
    "\n",
    "\n",
    "**Например, кредитополучателю с доходом 25000 нужно назначить категорию `'E'`, а клиенту, получающему 235000, — `'B'`. Используйте собственную функцию с именем `categorize_income()` и метод `apply()`.**"
   ]
  },
  {
   "cell_type": "code",
   "execution_count": 17,
   "id": "e1771346",
   "metadata": {
    "deletable": false,
    "id": "e1771346"
   },
   "outputs": [],
   "source": [
    "def categorize_income(income):\n",
    "    try:\n",
    "        if 0 <= income <= 30000:\n",
    "            return 'E'\n",
    "        elif 30001 <= income <= 50000:\n",
    "            return 'D'\n",
    "        elif 50001 <= income <= 200000:\n",
    "            return 'C'\n",
    "        elif 200001 <= income <= 1000000:\n",
    "            return 'B'\n",
    "        elif income >= 1000001:\n",
    "            return 'A'\n",
    "    except:\n",
    "        pass"
   ]
  },
  {
   "cell_type": "code",
   "execution_count": 18,
   "id": "d5f3586d",
   "metadata": {
    "deletable": false,
    "id": "d5f3586d"
   },
   "outputs": [],
   "source": [
    "data['total_income_category'] = data['total_income'].apply(categorize_income)"
   ]
  },
  {
   "cell_type": "markdown",
   "id": "dde49b5c",
   "metadata": {
    "deletable": false,
    "id": "dde49b5c"
   },
   "source": [
    "**Задание 17. Выведите на экран перечень уникальных целей взятия кредита из столбца `purpose`.**"
   ]
  },
  {
   "cell_type": "code",
   "execution_count": 19,
   "id": "f67ce9b3",
   "metadata": {
    "deletable": false,
    "id": "f67ce9b3",
    "outputId": "673c12d9-7d7e-4ae0-9812-c622c89dd244"
   },
   "outputs": [
    {
     "data": {
      "text/plain": [
       "array(['покупка жилья', 'приобретение автомобиля',\n",
       "       'дополнительное образование', 'сыграть свадьбу',\n",
       "       'операции с жильем', 'образование', 'на проведение свадьбы',\n",
       "       'покупка жилья для семьи', 'покупка недвижимости',\n",
       "       'покупка коммерческой недвижимости', 'покупка жилой недвижимости',\n",
       "       'строительство собственной недвижимости', 'недвижимость',\n",
       "       'строительство недвижимости', 'на покупку подержанного автомобиля',\n",
       "       'на покупку своего автомобиля',\n",
       "       'операции с коммерческой недвижимостью',\n",
       "       'строительство жилой недвижимости', 'жилье',\n",
       "       'операции со своей недвижимостью', 'автомобили',\n",
       "       'заняться образованием', 'сделка с подержанным автомобилем',\n",
       "       'получение образования', 'автомобиль', 'свадьба',\n",
       "       'получение дополнительного образования', 'покупка своего жилья',\n",
       "       'операции с недвижимостью', 'получение высшего образования',\n",
       "       'свой автомобиль', 'сделка с автомобилем',\n",
       "       'профильное образование', 'высшее образование',\n",
       "       'покупка жилья для сдачи', 'на покупку автомобиля', 'ремонт жилью',\n",
       "       'заняться высшим образованием'], dtype=object)"
      ]
     },
     "execution_count": 19,
     "metadata": {},
     "output_type": "execute_result"
    }
   ],
   "source": [
    "data['purpose'].unique()"
   ]
  },
  {
   "cell_type": "markdown",
   "id": "85d0aef0",
   "metadata": {
    "deletable": false,
    "id": "85d0aef0"
   },
   "source": [
    "**Задание 18. Создайте функцию, которая на основании данных из столбца `purpose` сформирует новый столбец `purpose_category`, в который войдут следующие категории:**\n",
    "\n",
    "- `'операции с автомобилем'`,\n",
    "- `'операции с недвижимостью'`,\n",
    "- `'проведение свадьбы'`,\n",
    "- `'получение образования'`.\n",
    "\n",
    "**Например, если в столбце `purpose` находится подстрока `'на покупку автомобиля'`, то в столбце `purpose_category` должна появиться строка `'операции с автомобилем'`.**\n",
    "\n",
    "**Используйте собственную функцию с именем `categorize_purpose()` и метод `apply()`. Изучите данные в столбце `purpose` и определите, какие подстроки помогут вам правильно определить категорию.**"
   ]
  },
  {
   "cell_type": "code",
   "execution_count": 20,
   "id": "e149fab4",
   "metadata": {
    "deletable": false,
    "id": "e149fab4"
   },
   "outputs": [],
   "source": [
    "def categorize_purpose(row):\n",
    "    try:\n",
    "        if 'автом' in row:\n",
    "            return 'операции с автомобилем'\n",
    "        elif 'жил' in row or 'недвиж' in row:\n",
    "            return 'операции с недвижимостью'\n",
    "        elif 'свад' in row:\n",
    "            return 'проведение свадьбы'\n",
    "        elif 'образов' in row:\n",
    "            return 'получение образования'\n",
    "    except:\n",
    "        return 'нет категории'"
   ]
  },
  {
   "cell_type": "code",
   "execution_count": 21,
   "id": "bf36e69b",
   "metadata": {
    "deletable": false,
    "id": "bf36e69b"
   },
   "outputs": [],
   "source": [
    "data['purpose_category'] = data['purpose'].apply(categorize_purpose)"
   ]
  },
  {
   "cell_type": "markdown",
   "id": "09b242bf",
   "metadata": {
    "deletable": false,
    "editable": false,
    "id": "09b242bf"
   },
   "source": [
    "## Исследуйте данные и ответьте на вопросы"
   ]
  },
  {
   "cell_type": "markdown",
   "id": "c5d66278",
   "metadata": {
    "deletable": false,
    "editable": false,
    "id": "c5d66278"
   },
   "source": [
    "**Задание 19. Есть ли зависимость между количеством детей и возвратом кредита в срок?**"
   ]
  },
  {
   "cell_type": "code",
   "execution_count": 22,
   "id": "2cacfc4a",
   "metadata": {
    "id": "2cacfc4a"
   },
   "outputs": [
    {
     "name": "stdout",
     "output_type": "stream",
     "text": [
      "              debt\n",
      "children          \n",
      "0         7.535266\n",
      "1         9.232689\n",
      "2         9.454191\n",
      "3         8.181818\n",
      "4         9.756098\n",
      "5         0.000000\n"
     ]
    }
   ],
   "source": [
    "data_pivot = data.pivot_table(index=['children'], values = 'debt', aggfunc='mean') * 100\n",
    "print(data_pivot)"
   ]
  },
  {
   "cell_type": "markdown",
   "id": "3a6b99ec",
   "metadata": {
    "deletable": false,
    "id": "3a6b99ec"
   },
   "source": [
    "**Вывод:** По результатам анализа можно сделать вывод, что группой с минимальной вероятностью к просрочке являются бездетные люди. Больше всего должников с 2-мя и 4-мя детьми. Количество людей, бравших кредит с 5-ю детьми, слишком маленькое, чтобы учитывать их при анализе."
   ]
  },
  {
   "cell_type": "markdown",
   "id": "c97e61fb",
   "metadata": {},
   "source": [
    "<div class=\"alert alert-success\">\n",
    "<b>✔️ Комментарий ревьюера v2:</b> \n",
    "<br>Верно! Отлично, что ты используешь сводную таблицу\n",
    "</div>"
   ]
  },
  {
   "cell_type": "markdown",
   "id": "6538ea88",
   "metadata": {},
   "source": [
    "<div class=\"alert alert-danger\">\n",
    "<b>❌ Комментарий ревьюера v1:</b> \n",
    "<br>Тебе нужно найти именно долю должников внутри каждой группы:\n",
    "    \n",
    "    количество клиентов без детей и с долгом / (количество клиентов без детей и с долгом + количество клиентов без детей и без долга)\n",
    "    \n",
    "<br>Такие расчеты нужно произвести для каждой категории клиентов. Лучше всего для этого построить сводные таблицы используя метод pivot_table. Также можно рассчитать долю должников автоматически, с этим может помочь aggfunc='mean'. В каждом вопросе необходимо выделить группу с минимальной и максимальной вероятностью к просрочке\n",
    "</div>"
   ]
  },
  {
   "cell_type": "markdown",
   "id": "97be82ca",
   "metadata": {
    "deletable": false,
    "editable": false,
    "id": "97be82ca"
   },
   "source": [
    "**Задание 20. Есть ли зависимость между семейным положением и возвратом кредита в срок?**"
   ]
  },
  {
   "cell_type": "code",
   "execution_count": 23,
   "id": "dc3f7ee8",
   "metadata": {
    "id": "dc3f7ee8"
   },
   "outputs": [
    {
     "name": "stdout",
     "output_type": "stream",
     "text": [
      "          family_status  debt\n",
      "0       женат / замужем     0\n",
      "1       женат / замужем     0\n",
      "2       женат / замужем     0\n",
      "3       женат / замужем     0\n",
      "4      гражданский брак     0\n",
      "...                 ...   ...\n",
      "21520  гражданский брак     0\n",
      "21521   женат / замужем     0\n",
      "21522  гражданский брак     1\n",
      "21523   женат / замужем     1\n",
      "21524   женат / замужем     0\n",
      "\n",
      "[21348 rows x 2 columns]\n"
     ]
    }
   ],
   "source": [
    "data_family = data[['family_status', 'debt']]\n",
    "print(data_family)"
   ]
  },
  {
   "cell_type": "code",
   "execution_count": 24,
   "id": "2a4dc042",
   "metadata": {},
   "outputs": [
    {
     "name": "stdout",
     "output_type": "stream",
     "text": [
      "family_status\n",
      "Не женат / не замужем     2796\n",
      "в разводе                 1189\n",
      "вдовец / вдова             951\n",
      "гражданский брак          4146\n",
      "женат / замужем          12266\n",
      "Name: debt, dtype: int64\n"
     ]
    }
   ],
   "source": [
    "data_family_group = data_family.groupby('family_status')['debt'].count()\n",
    "print(data_family_group)"
   ]
  },
  {
   "cell_type": "code",
   "execution_count": 25,
   "id": "23cbcf00",
   "metadata": {},
   "outputs": [
    {
     "name": "stdout",
     "output_type": "stream",
     "text": [
      "family_status\n",
      "Не женат / не замужем    273\n",
      "в разводе                 84\n",
      "вдовец / вдова            63\n",
      "гражданский брак         385\n",
      "женат / замужем          927\n",
      "Name: debt, dtype: int64\n"
     ]
    }
   ],
   "source": [
    "data_family_debt = data_family.loc[data_family['debt'] == 1]\n",
    "data_family_debt_group = data_family_debt.groupby('family_status')['debt'].count()\n",
    "print(data_family_debt_group)"
   ]
  },
  {
   "cell_type": "code",
   "execution_count": 26,
   "id": "db593d4c",
   "metadata": {},
   "outputs": [
    {
     "name": "stdout",
     "output_type": "stream",
     "text": [
      "family_status\n",
      "Не женат / не замужем    9.763948\n",
      "в разводе                7.064760\n",
      "вдовец / вдова           6.624606\n",
      "гражданский брак         9.286059\n",
      "женат / замужем          7.557476\n",
      "Name: debt, dtype: float64\n"
     ]
    }
   ],
   "source": [
    "data_family_total = data_family_debt_group / data_family_group * 100\n",
    "print(data_family_total)"
   ]
  },
  {
   "cell_type": "markdown",
   "id": "1cef7837",
   "metadata": {
    "deletable": false,
    "id": "1cef7837"
   },
   "source": [
    "**Вывод:** По реузльтатам исследования видно, что люди, не вступающие в официальный брак, имеют больше задолженностей. Среди не женатых должниками являются 9,76 % людей, а также 9,28 % должников среди людей, состоящих в гражданском браке."
   ]
  },
  {
   "cell_type": "markdown",
   "id": "ddc6c187",
   "metadata": {},
   "source": [
    "<div class=\"alert alert-success\">\n",
    "<b>✔️ Комментарий ревьюера v1:</b> \n",
    "<br>Тут всё правильно\n",
    "</div>"
   ]
  },
  {
   "cell_type": "markdown",
   "id": "1e8b2fca",
   "metadata": {
    "deletable": false,
    "editable": false,
    "id": "1e8b2fca"
   },
   "source": [
    "**Задание 21. Есть ли зависимость между уровнем дохода и возвратом кредита в срок?**"
   ]
  },
  {
   "cell_type": "code",
   "execution_count": 27,
   "id": "cd7e3720",
   "metadata": {
    "id": "cd7e3720"
   },
   "outputs": [
    {
     "name": "stdout",
     "output_type": "stream",
     "text": [
      "total_income_category\n",
      "A       25\n",
      "B     5014\n",
      "C    15938\n",
      "D      349\n",
      "E       22\n",
      "Name: debt, dtype: int64\n"
     ]
    }
   ],
   "source": [
    "data_income = data[['total_income_category', 'debt']]\n",
    "data_income_group = data_income.groupby('total_income_category')['debt'].count()\n",
    "print(data_income_group)"
   ]
  },
  {
   "cell_type": "code",
   "execution_count": 28,
   "id": "92a6f99d",
   "metadata": {},
   "outputs": [
    {
     "name": "stdout",
     "output_type": "stream",
     "text": [
      "total_income_category\n",
      "A       2\n",
      "B     354\n",
      "C    1353\n",
      "D      21\n",
      "E       2\n",
      "Name: debt, dtype: int64\n"
     ]
    }
   ],
   "source": [
    "data_income_debt = data_income.loc[data['debt'] != 0]\n",
    "data_income_debt_group = data_income_debt.groupby('total_income_category')['debt'].count()\n",
    "print(data_income_debt_group)"
   ]
  },
  {
   "cell_type": "code",
   "execution_count": 29,
   "id": "5814b442",
   "metadata": {},
   "outputs": [
    {
     "name": "stdout",
     "output_type": "stream",
     "text": [
      "total_income_category\n",
      "A    8.000000\n",
      "B    7.060231\n",
      "C    8.489145\n",
      "D    6.017192\n",
      "E    9.090909\n",
      "Name: debt, dtype: float64\n"
     ]
    }
   ],
   "source": [
    "data_income_total = data_income_debt_group / data_income_group * 100\n",
    "print(data_income_total)"
   ]
  },
  {
   "cell_type": "markdown",
   "id": "e8593def",
   "metadata": {
    "deletable": false,
    "id": "e8593def"
   },
   "source": [
    "**Вывод:** Самый большой процент должников у людей с низким уровнем дохода (категория 'E') - 9,09 %\n",
    "Самый низкий, у людей с доходом от 30000 до 50000 (категория 'D') - 6,02 %"
   ]
  },
  {
   "cell_type": "markdown",
   "id": "7a661fe6",
   "metadata": {},
   "source": [
    "<div class=\"alert alert-success\">\n",
    "<b>✔️ Комментарий ревьюера v1:</b> \n",
    "<br>Согласен! Идём дальше)\n",
    "</div>"
   ]
  },
  {
   "cell_type": "markdown",
   "id": "99ecbd1f",
   "metadata": {
    "deletable": false,
    "editable": false,
    "id": "99ecbd1f"
   },
   "source": [
    "**Задание 22. Как разные цели кредита влияют на его возврат в срок?**"
   ]
  },
  {
   "cell_type": "code",
   "execution_count": 30,
   "id": "2b687290",
   "metadata": {
    "id": "2b687290"
   },
   "outputs": [
    {
     "name": "stdout",
     "output_type": "stream",
     "text": [
      "purpose_category\n",
      "операции с автомобилем       4281\n",
      "операции с недвижимостью    10754\n",
      "получение образования        3989\n",
      "проведение свадьбы           2324\n",
      "Name: debt, dtype: int64\n"
     ]
    }
   ],
   "source": [
    "data_purpose = data[['purpose_category', 'debt']]\n",
    "data_purpose_group = data_purpose.groupby('purpose_category')['debt'].count()\n",
    "print(data_purpose_group)"
   ]
  },
  {
   "cell_type": "code",
   "execution_count": 31,
   "id": "70572531",
   "metadata": {},
   "outputs": [
    {
     "name": "stdout",
     "output_type": "stream",
     "text": [
      "purpose_category\n",
      "операции с автомобилем      400\n",
      "операции с недвижимостью    780\n",
      "получение образования       369\n",
      "проведение свадьбы          183\n",
      "Name: debt, dtype: int64\n"
     ]
    }
   ],
   "source": [
    "data_purpose_debt = data_purpose.loc[data_purpose['debt'] != 0]\n",
    "data_purpose_debt_group = data_purpose_debt.groupby('purpose_category')['debt'].count()\n",
    "print(data_purpose_debt_group)"
   ]
  },
  {
   "cell_type": "code",
   "execution_count": 32,
   "id": "a212c008",
   "metadata": {},
   "outputs": [
    {
     "name": "stdout",
     "output_type": "stream",
     "text": [
      "purpose_category\n",
      "операции с автомобилем      9.343611\n",
      "операции с недвижимостью    7.253115\n",
      "получение образования       9.250439\n",
      "проведение свадьбы          7.874355\n",
      "Name: debt, dtype: float64\n"
     ]
    }
   ],
   "source": [
    "data_purpose_final = data_purpose_debt_group / data_purpose_group * 100\n",
    "print(data_purpose_final)"
   ]
  },
  {
   "cell_type": "markdown",
   "id": "4119a548",
   "metadata": {},
   "source": [
    "<div class=\"alert alert-danger\">\n",
    "<b>❌ Комментарий ревьюера v1:</b> \n",
    "<br>Необходимо доделать проект до конца\n",
    "</div>"
   ]
  },
  {
   "cell_type": "markdown",
   "id": "b4bb2ce6",
   "metadata": {
    "deletable": false,
    "id": "b4bb2ce6"
   },
   "source": [
    "**Вывод:** Долдников больше по кредитам на автомобиль и образованиею Лучше всего возвращают кредит по операциям с недвижимостью."
   ]
  },
  {
   "cell_type": "markdown",
   "id": "2f11209c",
   "metadata": {},
   "source": [
    "<div class=\"alert alert-success\">\n",
    "<b>✔️ Комментарий ревьюера v2:</b>\n",
    "<br>Абсолютно верно!\n",
    "</div>"
   ]
  },
  {
   "cell_type": "markdown",
   "id": "09c3ac4c",
   "metadata": {
    "deletable": false,
    "editable": false,
    "id": "09c3ac4c"
   },
   "source": [
    "**Задание 23. Приведите возможные причины появления пропусков в исходных данных.**"
   ]
  },
  {
   "cell_type": "markdown",
   "id": "9da2ceda",
   "metadata": {
    "deletable": false,
    "id": "9da2ceda"
   },
   "source": [
    "*Ответ:* В исходных данных пропуски появились в строке дохода. Это может быть связано с тем, что не все люди указывают свой уровень дохода, или же доход указан в другой валюте"
   ]
  },
  {
   "cell_type": "markdown",
   "id": "e59a24a4",
   "metadata": {},
   "source": [
    "<div class=\"alert alert-success\">\n",
    "<b>✔️ Комментарий ревьюера v2:</b> \n",
    "<br>Так же это может быть результатом технического сбоя\n",
    "</div>"
   ]
  },
  {
   "cell_type": "markdown",
   "id": "7b0487d6",
   "metadata": {
    "deletable": false,
    "editable": false,
    "id": "7b0487d6"
   },
   "source": [
    "**Задание 24. Объясните, почему заполнить пропуски медианным значением — лучшее решение для количественных переменных.**"
   ]
  },
  {
   "cell_type": "markdown",
   "id": "7ecf2b8e",
   "metadata": {
    "deletable": false,
    "id": "7ecf2b8e"
   },
   "source": [
    "*Ответ:* Медианные значения не искажают общую картину и не мешают анализу"
   ]
  },
  {
   "cell_type": "markdown",
   "id": "fe00dbd7",
   "metadata": {},
   "source": [
    "<div class=\"alert alert-success\">\n",
    "<b>✔️ Комментарий ревьюера v2:</b> \n",
    "<br>Точно! Здорово, что ты помнишь об этом различии\n",
    "</div>"
   ]
  },
  {
   "cell_type": "markdown",
   "id": "6db5255a",
   "metadata": {
    "deletable": false,
    "editable": false,
    "id": "6db5255a"
   },
   "source": [
    "## Общий вывод."
   ]
  },
  {
   "cell_type": "markdown",
   "id": "bad65432",
   "metadata": {
    "id": "bad65432"
   },
   "source": [
    "Среди должников по разным категорям лучше всего платят по кредиту люди без детей, хуже - с двумя или четырьмя детьми. Также люде, не состоящие в браке, платят по кредиту хуже остальных. По уровню дохода: люди с самым низким уровнем дохода платят по кредиту хуже остальных, а лучше всего - люди с доходом от 30000 до 50000. Самой безопасной целью по кредиту для банка является недвижимость, а самой опасной - автомобиль и образование."
   ]
  },
  {
   "cell_type": "markdown",
   "id": "9e01bff3",
   "metadata": {},
   "source": [
    "<div class=\"alert alert-success\">\n",
    "<b>✔️ Комментарий ревьюера v2:</b> \n",
    "<br>Всё верно 👍\n",
    "</div>"
   ]
  },
  {
   "cell_type": "markdown",
   "id": "ddc7c2b4",
   "metadata": {},
   "source": [
    "<div class=\"alert alert-success\">\n",
    "<b>✔️ Итоговый комментарий ревьюера v2:</b>\n",
    "<br>Рад был поработать над проверкой твоего проекта) Желаю удачи в дальнейшем обучении! 😉\n",
    "</div>"
   ]
  }
 ],
 "metadata": {
  "ExecuteTimeLog": [
   {
    "duration": 55,
    "start_time": "2022-07-15T09:52:03.249Z"
   },
   {
    "duration": 496,
    "start_time": "2022-07-15T09:52:34.346Z"
   },
   {
    "duration": 23,
    "start_time": "2022-07-15T09:52:34.844Z"
   },
   {
    "duration": 17,
    "start_time": "2022-07-15T09:52:34.868Z"
   },
   {
    "duration": 14,
    "start_time": "2022-07-15T09:52:34.887Z"
   },
   {
    "duration": 35,
    "start_time": "2022-07-15T09:52:34.903Z"
   },
   {
    "duration": 4,
    "start_time": "2022-07-15T09:52:34.940Z"
   },
   {
    "duration": 10,
    "start_time": "2022-07-15T09:52:35.612Z"
   },
   {
    "duration": 14,
    "start_time": "2022-07-15T09:52:35.625Z"
   },
   {
    "duration": 14,
    "start_time": "2022-07-15T09:52:35.641Z"
   },
   {
    "duration": 10,
    "start_time": "2022-07-15T09:52:35.657Z"
   },
   {
    "duration": 43,
    "start_time": "2022-07-15T09:52:35.669Z"
   },
   {
    "duration": 10,
    "start_time": "2022-07-15T09:52:35.714Z"
   },
   {
    "duration": 10,
    "start_time": "2022-07-15T09:52:35.726Z"
   },
   {
    "duration": 32,
    "start_time": "2022-07-15T09:52:35.738Z"
   },
   {
    "duration": 39,
    "start_time": "2022-07-15T09:52:35.772Z"
   },
   {
    "duration": 11,
    "start_time": "2022-07-15T09:52:35.813Z"
   },
   {
    "duration": 11,
    "start_time": "2022-07-15T09:52:35.826Z"
   },
   {
    "duration": 13,
    "start_time": "2022-07-15T09:52:35.839Z"
   },
   {
    "duration": 7,
    "start_time": "2022-07-15T09:52:35.854Z"
   },
   {
    "duration": 5,
    "start_time": "2022-07-15T09:52:35.863Z"
   },
   {
    "duration": 35,
    "start_time": "2022-07-15T09:52:35.869Z"
   },
   {
    "duration": 3,
    "start_time": "2022-07-15T09:52:35.906Z"
   },
   {
    "duration": 4,
    "start_time": "2022-07-15T09:52:35.911Z"
   },
   {
    "duration": 5,
    "start_time": "2022-07-15T09:52:35.917Z"
   },
   {
    "duration": 8,
    "start_time": "2022-07-15T09:52:35.924Z"
   },
   {
    "duration": 4,
    "start_time": "2022-07-15T09:52:54.046Z"
   },
   {
    "duration": 7,
    "start_time": "2022-07-15T09:53:06.712Z"
   },
   {
    "duration": 13,
    "start_time": "2022-07-15T09:54:16.310Z"
   },
   {
    "duration": 32,
    "start_time": "2022-07-15T09:55:18.733Z"
   },
   {
    "duration": 13,
    "start_time": "2022-07-15T09:56:39.775Z"
   },
   {
    "duration": 10,
    "start_time": "2022-07-15T09:58:49.600Z"
   },
   {
    "duration": 11,
    "start_time": "2022-07-15T09:59:19.066Z"
   },
   {
    "duration": 3,
    "start_time": "2022-07-15T10:12:57.068Z"
   },
   {
    "duration": 5,
    "start_time": "2022-07-15T10:13:11.513Z"
   },
   {
    "duration": 5,
    "start_time": "2022-07-15T10:14:07.332Z"
   },
   {
    "duration": 4,
    "start_time": "2022-07-15T10:14:35.666Z"
   },
   {
    "duration": 5,
    "start_time": "2022-07-15T10:16:17.971Z"
   },
   {
    "duration": 11,
    "start_time": "2022-07-15T10:17:06.732Z"
   },
   {
    "duration": 9,
    "start_time": "2022-07-15T10:18:19.525Z"
   },
   {
    "duration": 25,
    "start_time": "2022-07-15T10:20:10.118Z"
   },
   {
    "duration": 8,
    "start_time": "2022-07-15T10:24:18.677Z"
   },
   {
    "duration": 9,
    "start_time": "2022-07-15T10:26:41.538Z"
   },
   {
    "duration": 9,
    "start_time": "2022-07-15T10:27:02.386Z"
   },
   {
    "duration": 161,
    "start_time": "2022-07-15T10:36:11.028Z"
   },
   {
    "duration": 154,
    "start_time": "2022-07-15T10:36:28.531Z"
   },
   {
    "duration": 92,
    "start_time": "2022-07-15T10:36:46.431Z"
   },
   {
    "duration": 83,
    "start_time": "2022-07-15T10:39:54.702Z"
   },
   {
    "duration": 16,
    "start_time": "2022-07-15T10:42:05.746Z"
   },
   {
    "duration": 10,
    "start_time": "2022-07-15T10:42:26.267Z"
   },
   {
    "duration": 10,
    "start_time": "2022-07-15T10:44:04.272Z"
   },
   {
    "duration": 9,
    "start_time": "2022-07-15T10:51:08.300Z"
   },
   {
    "duration": 6,
    "start_time": "2022-07-15T11:11:51.386Z"
   },
   {
    "duration": 5,
    "start_time": "2022-07-15T11:17:03.641Z"
   },
   {
    "duration": 5,
    "start_time": "2022-07-15T11:17:34.780Z"
   },
   {
    "duration": 5,
    "start_time": "2022-07-15T11:20:47.790Z"
   },
   {
    "duration": 7,
    "start_time": "2022-07-15T11:21:26.245Z"
   },
   {
    "duration": 960,
    "start_time": "2022-07-15T11:21:41.900Z"
   },
   {
    "duration": 4,
    "start_time": "2022-07-15T11:21:57.457Z"
   },
   {
    "duration": 4,
    "start_time": "2022-07-15T11:22:13.142Z"
   },
   {
    "duration": 5,
    "start_time": "2022-07-15T11:22:23.040Z"
   },
   {
    "duration": 833,
    "start_time": "2022-07-15T11:31:28.087Z"
   },
   {
    "duration": 13,
    "start_time": "2022-07-15T11:43:26.336Z"
   },
   {
    "duration": 9,
    "start_time": "2022-07-15T11:47:04.232Z"
   },
   {
    "duration": 6,
    "start_time": "2022-07-15T11:47:27.024Z"
   },
   {
    "duration": 5,
    "start_time": "2022-07-15T11:49:40.662Z"
   },
   {
    "duration": 5,
    "start_time": "2022-07-15T11:50:23.234Z"
   },
   {
    "duration": 5,
    "start_time": "2022-07-15T11:52:23.187Z"
   },
   {
    "duration": 5,
    "start_time": "2022-07-15T11:52:39.999Z"
   },
   {
    "duration": 6,
    "start_time": "2022-07-15T11:52:56.101Z"
   },
   {
    "duration": 6,
    "start_time": "2022-07-15T12:08:09.452Z"
   },
   {
    "duration": 9,
    "start_time": "2022-07-15T12:11:28.990Z"
   },
   {
    "duration": 68,
    "start_time": "2022-07-15T12:12:18.016Z"
   },
   {
    "duration": 519,
    "start_time": "2022-07-15T12:13:25.279Z"
   },
   {
    "duration": 21,
    "start_time": "2022-07-15T12:13:25.799Z"
   },
   {
    "duration": 14,
    "start_time": "2022-07-15T12:13:25.821Z"
   },
   {
    "duration": 10,
    "start_time": "2022-07-15T12:13:25.836Z"
   },
   {
    "duration": 61,
    "start_time": "2022-07-15T12:13:25.848Z"
   },
   {
    "duration": 4,
    "start_time": "2022-07-15T12:13:25.910Z"
   },
   {
    "duration": 10,
    "start_time": "2022-07-15T12:13:25.915Z"
   },
   {
    "duration": 4,
    "start_time": "2022-07-15T12:13:25.927Z"
   },
   {
    "duration": 7,
    "start_time": "2022-07-15T12:13:25.933Z"
   },
   {
    "duration": 5,
    "start_time": "2022-07-15T12:13:25.942Z"
   },
   {
    "duration": 61,
    "start_time": "2022-07-15T12:13:25.949Z"
   },
   {
    "duration": 10,
    "start_time": "2022-07-15T12:13:26.012Z"
   },
   {
    "duration": 12,
    "start_time": "2022-07-15T12:13:26.023Z"
   },
   {
    "duration": 24,
    "start_time": "2022-07-15T12:13:26.037Z"
   },
   {
    "duration": 18,
    "start_time": "2022-07-15T12:13:26.062Z"
   },
   {
    "duration": 28,
    "start_time": "2022-07-15T12:13:26.082Z"
   },
   {
    "duration": 4,
    "start_time": "2022-07-15T12:13:26.112Z"
   },
   {
    "duration": 26,
    "start_time": "2022-07-15T12:13:26.118Z"
   },
   {
    "duration": 9,
    "start_time": "2022-07-15T12:13:26.146Z"
   },
   {
    "duration": 4,
    "start_time": "2022-07-15T12:13:26.157Z"
   },
   {
    "duration": 19,
    "start_time": "2022-07-15T12:13:26.163Z"
   },
   {
    "duration": 27,
    "start_time": "2022-07-15T12:13:26.184Z"
   },
   {
    "duration": 15,
    "start_time": "2022-07-15T12:13:26.214Z"
   },
   {
    "duration": 27,
    "start_time": "2022-07-15T12:13:26.231Z"
   },
   {
    "duration": 17,
    "start_time": "2022-07-15T12:13:26.260Z"
   },
   {
    "duration": 14,
    "start_time": "2022-07-15T12:13:26.279Z"
   },
   {
    "duration": 16,
    "start_time": "2022-07-15T12:13:26.295Z"
   },
   {
    "duration": 16,
    "start_time": "2022-07-15T12:13:26.313Z"
   },
   {
    "duration": 12,
    "start_time": "2022-07-15T12:13:26.331Z"
   },
   {
    "duration": 12,
    "start_time": "2022-07-15T12:13:26.345Z"
   },
   {
    "duration": 11,
    "start_time": "2022-07-15T12:13:26.359Z"
   },
   {
    "duration": 8,
    "start_time": "2022-07-15T12:15:04.638Z"
   },
   {
    "duration": 5,
    "start_time": "2022-07-15T12:16:09.374Z"
   },
   {
    "duration": 8,
    "start_time": "2022-07-15T12:16:56.213Z"
   },
   {
    "duration": 6,
    "start_time": "2022-07-15T12:17:07.755Z"
   },
   {
    "duration": 7,
    "start_time": "2022-07-15T12:17:17.177Z"
   },
   {
    "duration": 6,
    "start_time": "2022-07-15T12:18:38.142Z"
   },
   {
    "duration": 7,
    "start_time": "2022-07-15T12:39:32.717Z"
   },
   {
    "duration": 12,
    "start_time": "2022-07-15T12:41:56.526Z"
   },
   {
    "duration": 8,
    "start_time": "2022-07-15T12:42:18.903Z"
   },
   {
    "duration": 8,
    "start_time": "2022-07-15T12:44:09.949Z"
   },
   {
    "duration": 9,
    "start_time": "2022-07-15T12:45:05.398Z"
   },
   {
    "duration": 3,
    "start_time": "2022-07-15T12:45:07.033Z"
   },
   {
    "duration": 8,
    "start_time": "2022-07-15T12:46:05.510Z"
   },
   {
    "duration": 6,
    "start_time": "2022-07-15T12:46:10.989Z"
   },
   {
    "duration": 6,
    "start_time": "2022-07-15T12:46:20.994Z"
   },
   {
    "duration": 77,
    "start_time": "2022-07-15T12:53:34.385Z"
   },
   {
    "duration": 8,
    "start_time": "2022-07-15T12:54:21.346Z"
   },
   {
    "duration": 8,
    "start_time": "2022-07-15T12:57:03.710Z"
   },
   {
    "duration": 530,
    "start_time": "2022-07-15T13:29:32.819Z"
   },
   {
    "duration": 32,
    "start_time": "2022-07-15T13:29:33.351Z"
   },
   {
    "duration": 15,
    "start_time": "2022-07-15T13:29:33.387Z"
   },
   {
    "duration": 10,
    "start_time": "2022-07-15T13:29:33.404Z"
   },
   {
    "duration": 65,
    "start_time": "2022-07-15T13:29:33.416Z"
   },
   {
    "duration": 3,
    "start_time": "2022-07-15T13:29:33.486Z"
   },
   {
    "duration": 9,
    "start_time": "2022-07-15T13:29:33.491Z"
   },
   {
    "duration": 4,
    "start_time": "2022-07-15T13:29:33.502Z"
   },
   {
    "duration": 9,
    "start_time": "2022-07-15T13:29:33.507Z"
   },
   {
    "duration": 4,
    "start_time": "2022-07-15T13:29:33.518Z"
   },
   {
    "duration": 75,
    "start_time": "2022-07-15T13:29:33.524Z"
   },
   {
    "duration": 9,
    "start_time": "2022-07-15T13:29:33.601Z"
   },
   {
    "duration": 4,
    "start_time": "2022-07-15T13:29:33.611Z"
   },
   {
    "duration": 19,
    "start_time": "2022-07-15T13:29:33.617Z"
   },
   {
    "duration": 25,
    "start_time": "2022-07-15T13:29:33.659Z"
   },
   {
    "duration": 16,
    "start_time": "2022-07-15T13:29:33.689Z"
   },
   {
    "duration": 16,
    "start_time": "2022-07-15T13:29:33.707Z"
   },
   {
    "duration": 61,
    "start_time": "2022-07-15T13:29:33.726Z"
   },
   {
    "duration": 19,
    "start_time": "2022-07-15T13:29:33.789Z"
   },
   {
    "duration": 20,
    "start_time": "2022-07-15T13:29:33.810Z"
   },
   {
    "duration": 56,
    "start_time": "2022-07-15T13:29:33.832Z"
   },
   {
    "duration": 16,
    "start_time": "2022-07-15T13:29:33.890Z"
   },
   {
    "duration": 12,
    "start_time": "2022-07-15T13:29:33.908Z"
   },
   {
    "duration": 26,
    "start_time": "2022-07-15T13:29:33.922Z"
   },
   {
    "duration": 50,
    "start_time": "2022-07-15T13:29:33.951Z"
   },
   {
    "duration": 25,
    "start_time": "2022-07-15T13:29:34.003Z"
   },
   {
    "duration": 66,
    "start_time": "2022-07-15T13:29:34.030Z"
   },
   {
    "duration": 30,
    "start_time": "2022-07-15T13:29:34.098Z"
   },
   {
    "duration": 21,
    "start_time": "2022-07-15T13:29:34.130Z"
   },
   {
    "duration": 47,
    "start_time": "2022-07-15T13:29:34.154Z"
   },
   {
    "duration": 19,
    "start_time": "2022-07-15T13:29:34.203Z"
   },
   {
    "duration": 17,
    "start_time": "2022-07-15T13:29:34.224Z"
   },
   {
    "duration": 12,
    "start_time": "2022-07-15T13:29:34.242Z"
   },
   {
    "duration": 65,
    "start_time": "2022-07-15T13:29:34.255Z"
   },
   {
    "duration": 20,
    "start_time": "2022-07-15T13:29:34.322Z"
   },
   {
    "duration": 562,
    "start_time": "2022-07-16T09:03:44.121Z"
   },
   {
    "duration": 24,
    "start_time": "2022-07-16T09:03:44.685Z"
   },
   {
    "duration": 16,
    "start_time": "2022-07-16T09:03:44.711Z"
   },
   {
    "duration": 10,
    "start_time": "2022-07-16T09:03:44.728Z"
   },
   {
    "duration": 36,
    "start_time": "2022-07-16T09:03:44.740Z"
   },
   {
    "duration": 27,
    "start_time": "2022-07-16T09:03:44.778Z"
   },
   {
    "duration": 10,
    "start_time": "2022-07-16T09:03:44.807Z"
   },
   {
    "duration": 5,
    "start_time": "2022-07-16T09:03:44.819Z"
   },
   {
    "duration": 10,
    "start_time": "2022-07-16T09:03:44.825Z"
   },
   {
    "duration": 5,
    "start_time": "2022-07-16T09:03:44.836Z"
   },
   {
    "duration": 68,
    "start_time": "2022-07-16T09:03:44.842Z"
   },
   {
    "duration": 9,
    "start_time": "2022-07-16T09:03:44.912Z"
   },
   {
    "duration": 4,
    "start_time": "2022-07-16T09:03:44.923Z"
   },
   {
    "duration": 25,
    "start_time": "2022-07-16T09:03:44.930Z"
   },
   {
    "duration": 17,
    "start_time": "2022-07-16T09:03:44.957Z"
   },
   {
    "duration": 30,
    "start_time": "2022-07-16T09:03:44.975Z"
   },
   {
    "duration": 21,
    "start_time": "2022-07-16T09:03:45.007Z"
   },
   {
    "duration": 16,
    "start_time": "2022-07-16T09:03:45.030Z"
   },
   {
    "duration": 10,
    "start_time": "2022-07-16T09:03:45.048Z"
   },
   {
    "duration": 4,
    "start_time": "2022-07-16T09:03:45.059Z"
   },
   {
    "duration": 15,
    "start_time": "2022-07-16T09:03:45.065Z"
   },
   {
    "duration": 18,
    "start_time": "2022-07-16T09:03:45.082Z"
   },
   {
    "duration": 9,
    "start_time": "2022-07-16T09:03:45.105Z"
   },
   {
    "duration": 11,
    "start_time": "2022-07-16T09:03:45.116Z"
   },
   {
    "duration": 6,
    "start_time": "2022-07-16T09:03:45.129Z"
   },
   {
    "duration": 10,
    "start_time": "2022-07-16T09:03:45.136Z"
   },
   {
    "duration": 8,
    "start_time": "2022-07-16T09:03:45.148Z"
   },
   {
    "duration": 5,
    "start_time": "2022-07-16T09:03:45.158Z"
   },
   {
    "duration": 39,
    "start_time": "2022-07-16T09:03:45.165Z"
   },
   {
    "duration": 9,
    "start_time": "2022-07-16T09:03:45.206Z"
   },
   {
    "duration": 134,
    "start_time": "2022-07-16T09:10:02.290Z"
   },
   {
    "duration": 76,
    "start_time": "2022-07-16T09:10:18.266Z"
   },
   {
    "duration": 12,
    "start_time": "2022-07-16T09:10:59.067Z"
   },
   {
    "duration": 13,
    "start_time": "2022-07-16T09:11:49.579Z"
   },
   {
    "duration": 5,
    "start_time": "2022-07-16T09:17:39.586Z"
   },
   {
    "duration": 463,
    "start_time": "2022-07-16T09:34:13.323Z"
   },
   {
    "duration": 30,
    "start_time": "2022-07-16T09:34:13.788Z"
   },
   {
    "duration": 16,
    "start_time": "2022-07-16T09:34:13.819Z"
   },
   {
    "duration": 9,
    "start_time": "2022-07-16T09:34:13.837Z"
   },
   {
    "duration": 35,
    "start_time": "2022-07-16T09:34:13.848Z"
   },
   {
    "duration": 28,
    "start_time": "2022-07-16T09:34:13.884Z"
   },
   {
    "duration": 18,
    "start_time": "2022-07-16T09:34:13.913Z"
   },
   {
    "duration": 10,
    "start_time": "2022-07-16T09:34:13.932Z"
   },
   {
    "duration": 14,
    "start_time": "2022-07-16T09:34:13.944Z"
   },
   {
    "duration": 10,
    "start_time": "2022-07-16T09:34:13.959Z"
   },
   {
    "duration": 47,
    "start_time": "2022-07-16T09:34:13.970Z"
   },
   {
    "duration": 10,
    "start_time": "2022-07-16T09:34:14.018Z"
   },
   {
    "duration": 4,
    "start_time": "2022-07-16T09:34:14.029Z"
   },
   {
    "duration": 21,
    "start_time": "2022-07-16T09:34:14.035Z"
   },
   {
    "duration": 18,
    "start_time": "2022-07-16T09:34:14.057Z"
   },
   {
    "duration": 10,
    "start_time": "2022-07-16T09:34:14.077Z"
   },
   {
    "duration": 6,
    "start_time": "2022-07-16T09:34:14.114Z"
   },
   {
    "duration": 13,
    "start_time": "2022-07-16T09:34:14.121Z"
   },
   {
    "duration": 9,
    "start_time": "2022-07-16T09:34:14.136Z"
   },
   {
    "duration": 5,
    "start_time": "2022-07-16T09:34:14.147Z"
   },
   {
    "duration": 18,
    "start_time": "2022-07-16T09:34:14.154Z"
   },
   {
    "duration": 17,
    "start_time": "2022-07-16T09:34:14.174Z"
   },
   {
    "duration": 12,
    "start_time": "2022-07-16T09:34:14.213Z"
   },
   {
    "duration": 10,
    "start_time": "2022-07-16T09:34:14.227Z"
   },
   {
    "duration": 11,
    "start_time": "2022-07-16T09:34:14.239Z"
   },
   {
    "duration": 16,
    "start_time": "2022-07-16T09:34:14.252Z"
   },
   {
    "duration": 23,
    "start_time": "2022-07-16T09:34:14.270Z"
   },
   {
    "duration": 23,
    "start_time": "2022-07-16T09:34:14.295Z"
   },
   {
    "duration": 11,
    "start_time": "2022-07-16T09:34:14.319Z"
   },
   {
    "duration": 22,
    "start_time": "2022-07-16T09:34:14.332Z"
   },
   {
    "duration": 15,
    "start_time": "2022-07-16T09:34:14.356Z"
   },
   {
    "duration": 7,
    "start_time": "2022-07-16T09:34:14.372Z"
   },
   {
    "duration": 467,
    "start_time": "2022-07-16T16:55:31.730Z"
   },
   {
    "duration": 23,
    "start_time": "2022-07-16T16:55:32.199Z"
   },
   {
    "duration": 15,
    "start_time": "2022-07-16T16:55:32.223Z"
   },
   {
    "duration": 17,
    "start_time": "2022-07-16T16:55:32.240Z"
   },
   {
    "duration": 56,
    "start_time": "2022-07-16T16:55:32.259Z"
   },
   {
    "duration": 4,
    "start_time": "2022-07-16T16:55:32.318Z"
   },
   {
    "duration": 22,
    "start_time": "2022-07-16T16:55:32.323Z"
   },
   {
    "duration": 15,
    "start_time": "2022-07-16T16:55:32.346Z"
   },
   {
    "duration": 25,
    "start_time": "2022-07-16T16:55:32.363Z"
   },
   {
    "duration": 5,
    "start_time": "2022-07-16T16:55:32.391Z"
   },
   {
    "duration": 46,
    "start_time": "2022-07-16T16:55:32.398Z"
   },
   {
    "duration": 8,
    "start_time": "2022-07-16T16:55:32.446Z"
   },
   {
    "duration": 23,
    "start_time": "2022-07-16T16:55:32.455Z"
   },
   {
    "duration": 35,
    "start_time": "2022-07-16T16:55:32.480Z"
   },
   {
    "duration": 15,
    "start_time": "2022-07-16T16:55:32.517Z"
   },
   {
    "duration": 11,
    "start_time": "2022-07-16T16:55:32.533Z"
   },
   {
    "duration": 11,
    "start_time": "2022-07-16T16:55:32.545Z"
   },
   {
    "duration": 32,
    "start_time": "2022-07-16T16:55:32.557Z"
   },
   {
    "duration": 9,
    "start_time": "2022-07-16T16:55:32.591Z"
   },
   {
    "duration": 10,
    "start_time": "2022-07-16T16:55:32.601Z"
   },
   {
    "duration": 21,
    "start_time": "2022-07-16T16:55:32.612Z"
   },
   {
    "duration": 17,
    "start_time": "2022-07-16T16:55:32.635Z"
   },
   {
    "duration": 6,
    "start_time": "2022-07-16T16:55:32.654Z"
   },
   {
    "duration": 8,
    "start_time": "2022-07-16T16:55:32.662Z"
   },
   {
    "duration": 9,
    "start_time": "2022-07-16T16:55:32.671Z"
   },
   {
    "duration": 13,
    "start_time": "2022-07-16T16:55:32.681Z"
   },
   {
    "duration": 10,
    "start_time": "2022-07-16T16:55:32.696Z"
   },
   {
    "duration": 25,
    "start_time": "2022-07-16T16:55:32.709Z"
   },
   {
    "duration": 18,
    "start_time": "2022-07-16T16:55:32.735Z"
   },
   {
    "duration": 19,
    "start_time": "2022-07-16T16:55:32.754Z"
   },
   {
    "duration": 11,
    "start_time": "2022-07-16T16:55:32.776Z"
   },
   {
    "duration": 8,
    "start_time": "2022-07-16T16:55:32.789Z"
   }
  ],
  "colab": {
   "name": "dpp_template_part2.ipynb",
   "provenance": []
  },
  "kernelspec": {
   "display_name": "Python 3 (ipykernel)",
   "language": "python",
   "name": "python3"
  },
  "language_info": {
   "codemirror_mode": {
    "name": "ipython",
    "version": 3
   },
   "file_extension": ".py",
   "mimetype": "text/x-python",
   "name": "python",
   "nbconvert_exporter": "python",
   "pygments_lexer": "ipython3",
   "version": "3.9.12"
  },
  "toc": {
   "base_numbering": 1,
   "nav_menu": {},
   "number_sections": true,
   "sideBar": true,
   "skip_h1_title": true,
   "title_cell": "Table of Contents",
   "title_sidebar": "Contents",
   "toc_cell": false,
   "toc_position": {},
   "toc_section_display": true,
   "toc_window_display": false
  }
 },
 "nbformat": 4,
 "nbformat_minor": 5
}
