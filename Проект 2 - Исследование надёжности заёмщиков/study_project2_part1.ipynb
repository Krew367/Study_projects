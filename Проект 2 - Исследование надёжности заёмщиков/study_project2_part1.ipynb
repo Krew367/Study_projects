{
 "cells": [
  {
   "cell_type": "markdown",
   "id": "317ef5d2",
   "metadata": {
    "deletable": false,
    "editable": false,
    "id": "c81daeeb"
   },
   "source": [
    "# Исследование надежности заемщиков"
   ]
  },
  {
   "cell_type": "markdown",
   "id": "a0c6b165",
   "metadata": {
    "deletable": false,
    "editable": false,
    "id": "-G3EJWzf62s6"
   },
   "source": [
    "Это первая часть проекта, она будет проверена автоматически. Вторую часть проверит ревьюер. "
   ]
  },
  {
   "cell_type": "markdown",
   "id": "f745f447",
   "metadata": {
    "deletable": false,
    "editable": false,
    "id": "744d7639"
   },
   "source": [
    "## Откройте таблицу и изучите общую информацию о данных"
   ]
  },
  {
   "cell_type": "markdown",
   "id": "2a9b835c",
   "metadata": {
    "deletable": false,
    "editable": false,
    "id": "e7a14c31",
    "tags": [
     "start_task"
    ]
   },
   "source": [
    "**Задание 1. Импортируйте библиотеку pandas. Считайте данные из csv-файла в датафрейм и сохраните в переменную `data`. Путь к файлу:**\n",
    "\n",
    "`/datasets/data.csv`"
   ]
  },
  {
   "cell_type": "code",
   "execution_count": 1,
   "id": "9d402326",
   "metadata": {
    "id": "7bcf75c9"
   },
   "outputs": [],
   "source": [
    "import pandas as pd # импортируйте библиотеку pandas"
   ]
  },
  {
   "cell_type": "code",
   "execution_count": 2,
   "id": "389c432d",
   "metadata": {
    "id": "4d240ee2"
   },
   "outputs": [],
   "source": [
    "data = pd.read_csv('/datasets/data.csv') # прочитайте csv-файл"
   ]
  },
  {
   "cell_type": "markdown",
   "id": "6685070a",
   "metadata": {
    "deletable": false,
    "editable": false,
    "id": "b8038fe3",
    "tags": [
     "start_task"
    ]
   },
   "source": [
    "**Задание 2. Выведите первые 20 строчек датафрейма `data` на экран.**"
   ]
  },
  {
   "cell_type": "code",
   "execution_count": 3,
   "id": "a14d4881",
   "metadata": {
    "id": "2a7cab99"
   },
   "outputs": [
    {
     "name": "stdout",
     "output_type": "stream",
     "text": [
      "    children  days_employed  dob_years            education  education_id  \\\n",
      "0          1   -8437.673028         42               высшее             0   \n",
      "1          1   -4024.803754         36              среднее             1   \n",
      "2          0   -5623.422610         33              Среднее             1   \n",
      "3          3   -4124.747207         32              среднее             1   \n",
      "4          0  340266.072047         53              среднее             1   \n",
      "5          0    -926.185831         27               высшее             0   \n",
      "6          0   -2879.202052         43               высшее             0   \n",
      "7          0    -152.779569         50              СРЕДНЕЕ             1   \n",
      "8          2   -6929.865299         35               ВЫСШЕЕ             0   \n",
      "9          0   -2188.756445         41              среднее             1   \n",
      "10         2   -4171.483647         36               высшее             0   \n",
      "11         0    -792.701887         40              среднее             1   \n",
      "12         0            NaN         65              среднее             1   \n",
      "13         0   -1846.641941         54  неоконченное высшее             2   \n",
      "14         0   -1844.956182         56               высшее             0   \n",
      "15         1    -972.364419         26              среднее             1   \n",
      "16         0   -1719.934226         35              среднее             1   \n",
      "17         0   -2369.999720         33               высшее             0   \n",
      "18         0  400281.136913         53              среднее             1   \n",
      "19         0  -10038.818549         48              СРЕДНЕЕ             1   \n",
      "\n",
      "       family_status  family_status_id gender income_type  debt  \\\n",
      "0    женат / замужем                 0      F   сотрудник     0   \n",
      "1    женат / замужем                 0      F   сотрудник     0   \n",
      "2    женат / замужем                 0      M   сотрудник     0   \n",
      "3    женат / замужем                 0      M   сотрудник     0   \n",
      "4   гражданский брак                 1      F   пенсионер     0   \n",
      "5   гражданский брак                 1      M   компаньон     0   \n",
      "6    женат / замужем                 0      F   компаньон     0   \n",
      "7    женат / замужем                 0      M   сотрудник     0   \n",
      "8   гражданский брак                 1      F   сотрудник     0   \n",
      "9    женат / замужем                 0      M   сотрудник     0   \n",
      "10   женат / замужем                 0      M   компаньон     0   \n",
      "11   женат / замужем                 0      F   сотрудник     0   \n",
      "12  гражданский брак                 1      M   пенсионер     0   \n",
      "13   женат / замужем                 0      F   сотрудник     0   \n",
      "14  гражданский брак                 1      F   компаньон     1   \n",
      "15   женат / замужем                 0      F   сотрудник     0   \n",
      "16   женат / замужем                 0      F   сотрудник     0   \n",
      "17  гражданский брак                 1      M   сотрудник     0   \n",
      "18    вдовец / вдова                 2      F   пенсионер     0   \n",
      "19         в разводе                 3      F   сотрудник     0   \n",
      "\n",
      "     total_income                                 purpose  \n",
      "0   253875.639453                           покупка жилья  \n",
      "1   112080.014102                 приобретение автомобиля  \n",
      "2   145885.952297                           покупка жилья  \n",
      "3   267628.550329              дополнительное образование  \n",
      "4   158616.077870                         сыграть свадьбу  \n",
      "5   255763.565419                           покупка жилья  \n",
      "6   240525.971920                       операции с жильем  \n",
      "7   135823.934197                             образование  \n",
      "8    95856.832424                   на проведение свадьбы  \n",
      "9   144425.938277                 покупка жилья для семьи  \n",
      "10  113943.491460                    покупка недвижимости  \n",
      "11   77069.234271       покупка коммерческой недвижимости  \n",
      "12            NaN                         сыграть свадьбу  \n",
      "13  130458.228857                 приобретение автомобиля  \n",
      "14  165127.911772              покупка жилой недвижимости  \n",
      "15  116820.904450  строительство собственной недвижимости  \n",
      "16  289202.704229                            недвижимость  \n",
      "17   90410.586745              строительство недвижимости  \n",
      "18   56823.777243      на покупку подержанного автомобиля  \n",
      "19  242831.107982            на покупку своего автомобиля  \n"
     ]
    }
   ],
   "source": [
    "print(data.head(20))"
   ]
  },
  {
   "cell_type": "markdown",
   "id": "415e17e4",
   "metadata": {
    "deletable": false,
    "editable": false,
    "id": "1c12e233",
    "tags": [
     "start_task"
    ]
   },
   "source": [
    "**Задание 3. Выведите основную информацию о датафрейме с помощью метода `info()`.**"
   ]
  },
  {
   "cell_type": "code",
   "execution_count": 4,
   "id": "9c8f0675",
   "metadata": {
    "id": "2b757bca"
   },
   "outputs": [
    {
     "name": "stdout",
     "output_type": "stream",
     "text": [
      "<class 'pandas.core.frame.DataFrame'>\n",
      "RangeIndex: 21525 entries, 0 to 21524\n",
      "Data columns (total 12 columns):\n",
      " #   Column            Non-Null Count  Dtype  \n",
      "---  ------            --------------  -----  \n",
      " 0   children          21525 non-null  int64  \n",
      " 1   days_employed     19351 non-null  float64\n",
      " 2   dob_years         21525 non-null  int64  \n",
      " 3   education         21525 non-null  object \n",
      " 4   education_id      21525 non-null  int64  \n",
      " 5   family_status     21525 non-null  object \n",
      " 6   family_status_id  21525 non-null  int64  \n",
      " 7   gender            21525 non-null  object \n",
      " 8   income_type       21525 non-null  object \n",
      " 9   debt              21525 non-null  int64  \n",
      " 10  total_income      19351 non-null  float64\n",
      " 11  purpose           21525 non-null  object \n",
      "dtypes: float64(2), int64(5), object(5)\n",
      "memory usage: 2.0+ MB\n"
     ]
    }
   ],
   "source": [
    "data.info()"
   ]
  },
  {
   "cell_type": "markdown",
   "id": "1ec6cebe",
   "metadata": {
    "deletable": false,
    "editable": false,
    "id": "333ec665"
   },
   "source": [
    "## Предобработка данных"
   ]
  },
  {
   "cell_type": "markdown",
   "id": "5f4f4f83",
   "metadata": {
    "deletable": false,
    "editable": false,
    "id": "02d92d53"
   },
   "source": [
    "### Удаление пропусков"
   ]
  },
  {
   "cell_type": "markdown",
   "id": "2052ec6d",
   "metadata": {
    "deletable": false,
    "editable": false,
    "id": "cd84967c",
    "tags": [
     "start_task"
    ]
   },
   "source": [
    "**Задание 4. Выведите количество пропущенных значений для каждого столбца. Используйте комбинацию двух методов.**"
   ]
  },
  {
   "cell_type": "code",
   "execution_count": 5,
   "id": "c099c74d",
   "metadata": {
    "id": "7f9b2309"
   },
   "outputs": [
    {
     "name": "stdout",
     "output_type": "stream",
     "text": [
      "children               0\n",
      "days_employed       2174\n",
      "dob_years              0\n",
      "education              0\n",
      "education_id           0\n",
      "family_status          0\n",
      "family_status_id       0\n",
      "gender                 0\n",
      "income_type            0\n",
      "debt                   0\n",
      "total_income        2174\n",
      "purpose                0\n",
      "dtype: int64\n"
     ]
    }
   ],
   "source": [
    "print(data.isna().sum())"
   ]
  },
  {
   "cell_type": "markdown",
   "id": "4cb1b0de",
   "metadata": {
    "deletable": false,
    "editable": false,
    "id": "db86e27b",
    "tags": [
     "start_task"
    ]
   },
   "source": [
    "**Задание 5. В двух столбцах есть пропущенные значения. Один из них — `days_employed`. Пропуски в этом столбце вы обработаете на следующем этапе. Другой столбец с пропущенными значениями — `total_income` — хранит данные о доходах. На сумму дохода сильнее всего влияет тип занятости, поэтому заполнить пропуски в этом столбце нужно медианным значением по каждому типу из столбца `income_type`. Например, у человека с типом занятости `сотрудник` пропуск в столбце `total_income` должен быть заполнен медианным доходом среди всех записей с тем же типом.**"
   ]
  },
  {
   "cell_type": "code",
   "execution_count": 6,
   "id": "b6f729c0",
   "metadata": {
    "id": "42006a93"
   },
   "outputs": [],
   "source": [
    "income_types=data['income_type'].unique()\n",
    "medians=data.groupby('income_type')['total_income'].median()\n",
    "for type in income_types:\n",
    "    data.loc[data['income_type']==type,'total_income'] = data.loc[data['income_type']==type,'total_income'].fillna(medians[type])"
   ]
  },
  {
   "cell_type": "markdown",
   "id": "2e1f1125",
   "metadata": {
    "deletable": false,
    "editable": false,
    "id": "89da5ece"
   },
   "source": [
    "### Обработка аномальных значений"
   ]
  },
  {
   "cell_type": "markdown",
   "id": "ab5ea573",
   "metadata": {
    "deletable": false,
    "editable": false,
    "id": "57964554",
    "tags": [
     "start_task"
    ]
   },
   "source": [
    "**Задание 6. В данных могут встречаться артефакты (аномалии) — значения, которые не отражают действительность и появились по какой-то ошибке. Таким артефактом будет отрицательное количество дней трудового стажа в столбце `days_employed`. Для реальных данных это нормально. Обработайте значения в этом столбце: замените все отрицательные значения положительными с помощью метода `abs()`.**"
   ]
  },
  {
   "cell_type": "code",
   "execution_count": 7,
   "id": "f81cf181",
   "metadata": {
    "id": "f6f055bf"
   },
   "outputs": [],
   "source": [
    "data['days_employed'] = data['days_employed'].abs()"
   ]
  },
  {
   "cell_type": "markdown",
   "id": "93760c47",
   "metadata": {
    "deletable": false,
    "editable": false,
    "id": "6107dd2f",
    "tags": [
     "start_task"
    ]
   },
   "source": [
    "**Задание 7. Для каждого типа занятости выведите медианное значение трудового стажа `days_employed` в днях.**"
   ]
  },
  {
   "cell_type": "code",
   "execution_count": 8,
   "id": "289361af",
   "metadata": {
    "id": "85a5faf6"
   },
   "outputs": [
    {
     "name": "stdout",
     "output_type": "stream",
     "text": [
      "income_type\n",
      "безработный        366413.652744\n",
      "в декрете            3296.759962\n",
      "госслужащий          2689.368353\n",
      "компаньон            1547.382223\n",
      "пенсионер          365213.306266\n",
      "предприниматель       520.848083\n",
      "сотрудник            1574.202821\n",
      "студент               578.751554\n",
      "Name: days_employed, dtype: float64\n"
     ]
    }
   ],
   "source": [
    "print(data.groupby('income_type')['days_employed'].median())"
   ]
  },
  {
   "cell_type": "markdown",
   "id": "fccfafbd",
   "metadata": {
    "deletable": false,
    "editable": false,
    "id": "38d1a030"
   },
   "source": [
    "У двух типов (безработные и пенсионеры) получатся аномально большие значения. Исправить такие значения сложно, поэтому оставьте их как есть. Тем более этот столбец не понадобится вам для исследования."
   ]
  },
  {
   "cell_type": "markdown",
   "id": "09574c9d",
   "metadata": {
    "deletable": false,
    "editable": false,
    "id": "d8a9f147",
    "tags": [
     "start_task"
    ]
   },
   "source": [
    "**Задание 8. Выведите перечень уникальных значений столбца `children`.**"
   ]
  },
  {
   "cell_type": "code",
   "execution_count": 9,
   "id": "c6a005a1",
   "metadata": {
    "id": "ef5056eb"
   },
   "outputs": [
    {
     "name": "stdout",
     "output_type": "stream",
     "text": [
      "[ 1  0  3  2 -1  4 20  5]\n"
     ]
    }
   ],
   "source": [
    "print(data['children'].unique())"
   ]
  },
  {
   "cell_type": "markdown",
   "id": "5ca1b501",
   "metadata": {
    "deletable": false,
    "editable": false,
    "id": "40b9ebf2",
    "tags": [
     "start_task"
    ]
   },
   "source": [
    "**Задание 9. В столбце `children` есть два аномальных значения. Удалите строки, в которых встречаются такие аномальные значения из датафрейма `data`.**"
   ]
  },
  {
   "cell_type": "code",
   "execution_count": 10,
   "id": "deb9d130",
   "metadata": {
    "id": "3ff9801d"
   },
   "outputs": [],
   "source": [
    "data = data[data['children'] >= 0]\n",
    "data = data[data['children'] != 20]"
   ]
  },
  {
   "cell_type": "markdown",
   "id": "6e6be372",
   "metadata": {
    "deletable": false,
    "editable": false,
    "id": "bbc4d0ce",
    "tags": [
     "start_task"
    ]
   },
   "source": [
    "**Задание 10. Ещё раз выведите перечень уникальных значений столбца `children`, чтобы убедиться, что артефакты удалены.**"
   ]
  },
  {
   "cell_type": "code",
   "execution_count": 11,
   "id": "72ed68e3",
   "metadata": {
    "id": "ad4fa8b7"
   },
   "outputs": [
    {
     "name": "stdout",
     "output_type": "stream",
     "text": [
      "[1 0 3 2 4 5]\n"
     ]
    }
   ],
   "source": [
    "print(data['children'].unique())"
   ]
  },
  {
   "cell_type": "markdown",
   "id": "188c6027",
   "metadata": {
    "deletable": false,
    "editable": false,
    "id": "75440b63"
   },
   "source": [
    "### Удаление пропусков (продолжение)"
   ]
  },
  {
   "cell_type": "markdown",
   "id": "4b5b7221",
   "metadata": {
    "deletable": false,
    "editable": false,
    "id": "f4ea573f",
    "tags": [
     "start_task"
    ]
   },
   "source": [
    "**Задание 11. Заполните пропуски в столбце `days_employed` медианными значениями по каждому типу занятости `income_type`.**"
   ]
  },
  {
   "cell_type": "code",
   "execution_count": 12,
   "id": "47d00c61",
   "metadata": {
    "id": "af6b1a7e"
   },
   "outputs": [],
   "source": [
    "income_type = data['income_type'].unique()\n",
    "\n",
    "for type in income_type:\n",
    "    median = data.loc[data['income_type'] == type, 'days_employed'].median()\n",
    "    data.loc[(data['days_employed'].isna()) & (data['income_type'] == type), 'days_employed'] = median"
   ]
  },
  {
   "cell_type": "markdown",
   "id": "1ffe19d7",
   "metadata": {
    "deletable": false,
    "editable": false,
    "id": "2753f40d",
    "tags": [
     "start_task"
    ]
   },
   "source": [
    "**Задание 12. Убедитесь, что все пропуски заполнены. Проверьте себя и ещё раз выведите количество пропущенных значений для каждого столбца с помощью двух методов.**"
   ]
  },
  {
   "cell_type": "code",
   "execution_count": 13,
   "id": "88e28bb3",
   "metadata": {
    "id": "55f78bc2"
   },
   "outputs": [
    {
     "name": "stdout",
     "output_type": "stream",
     "text": [
      "children            0\n",
      "days_employed       0\n",
      "dob_years           0\n",
      "education           0\n",
      "education_id        0\n",
      "family_status       0\n",
      "family_status_id    0\n",
      "gender              0\n",
      "income_type         0\n",
      "debt                0\n",
      "total_income        0\n",
      "purpose             0\n",
      "dtype: int64\n"
     ]
    }
   ],
   "source": [
    "print(data.isna().sum())"
   ]
  },
  {
   "cell_type": "markdown",
   "id": "efc16677",
   "metadata": {
    "deletable": false,
    "editable": false,
    "id": "ddc81e43"
   },
   "source": [
    "### Изменение типов данных"
   ]
  },
  {
   "cell_type": "markdown",
   "id": "15123dfc",
   "metadata": {
    "deletable": false,
    "editable": false,
    "id": "42d19d24",
    "tags": [
     "start_task"
    ]
   },
   "source": [
    "**Задание 13. Замените вещественный тип данных в столбце `total_income` на целочисленный с помощью метода `astype()`.**"
   ]
  },
  {
   "cell_type": "code",
   "execution_count": 14,
   "id": "bccfe066",
   "metadata": {
    "id": "920b65ad"
   },
   "outputs": [],
   "source": [
    "data['total_income'] = data['total_income'].astype(int)"
   ]
  },
  {
   "cell_type": "markdown",
   "id": "f6b8ddad",
   "metadata": {
    "deletable": false,
    "editable": false,
    "id": "80c420ba"
   },
   "source": [
    "### Обработка дубликатов"
   ]
  },
  {
   "cell_type": "markdown",
   "id": "d2ab73ff",
   "metadata": {
    "deletable": false,
    "editable": false,
    "id": "dc587695",
    "tags": [
     "start_task"
    ]
   },
   "source": [
    "**Задание 14. Выведите на экран количество строк-дубликатов в данных. Если такие строки присутствуют, удалите их.**"
   ]
  },
  {
   "cell_type": "code",
   "execution_count": 15,
   "id": "38264423",
   "metadata": {
    "id": "3ee445e4"
   },
   "outputs": [
    {
     "name": "stdout",
     "output_type": "stream",
     "text": [
      "54\n"
     ]
    }
   ],
   "source": [
    "print(data.duplicated().sum())"
   ]
  },
  {
   "cell_type": "code",
   "execution_count": 16,
   "id": "1e66ed3d",
   "metadata": {
    "id": "8575fe05"
   },
   "outputs": [],
   "source": [
    "data = data.drop_duplicates().reset_index(drop=True)"
   ]
  },
  {
   "cell_type": "markdown",
   "id": "fadea23b",
   "metadata": {
    "deletable": false,
    "editable": false,
    "id": "9771a76c",
    "tags": [
     "start_task"
    ]
   },
   "source": [
    "**Задание 15. Обработайте неявные дубликаты в столбце `education`. В этом столбце есть одни и те же значения, но записанные по-разному: с использованием заглавных и строчных букв. Приведите их к нижнему регистру. Проверьте остальные столбцы.**"
   ]
  },
  {
   "cell_type": "code",
   "execution_count": 17,
   "id": "739caca2",
   "metadata": {
    "id": "a9f8e2bf"
   },
   "outputs": [],
   "source": [
    "data['education'] = data['education'].str.lower()"
   ]
  },
  {
   "cell_type": "markdown",
   "id": "d28fc5b4",
   "metadata": {
    "deletable": false,
    "editable": false,
    "id": "9904cf55"
   },
   "source": [
    "### Категоризация данных"
   ]
  },
  {
   "cell_type": "markdown",
   "id": "16c5d2f8",
   "metadata": {
    "deletable": false,
    "editable": false,
    "id": "72fcc8a2",
    "tags": [
     "start_task"
    ]
   },
   "source": [
    "**Задание 16. На основании диапазонов, указанных ниже, создайте в датафрейме `data` столбец `total_income_category` с категориями:**\n",
    "\n",
    "- 0–30000 — `'E'`;\n",
    "- 30001–50000 — `'D'`;\n",
    "- 50001–200000 — `'C'`;\n",
    "- 200001–1000000 — `'B'`;\n",
    "- 1000001 и выше — `'A'`.\n",
    "\n",
    "\n",
    "**Например, кредитополучателю с доходом 25000 нужно назначить категорию `'E'`, а клиенту, получающему 235000, — `'B'`. Используйте собственную функцию с именем `categorize_income()` и метод `apply()`.**"
   ]
  },
  {
   "cell_type": "code",
   "execution_count": 18,
   "id": "4a00a82e",
   "metadata": {
    "id": "e1771346"
   },
   "outputs": [],
   "source": [
    "def categorize_income(row):\n",
    "    if 0 <= row <= 30000:\n",
    "        return 'E'\n",
    "    if 30001 <= row <= 50000:\n",
    "        return 'D'\n",
    "    if 50001 <= row <= 200000:\n",
    "        return 'C'\n",
    "    if 200001 <= row <= 1000000:\n",
    "        return 'B'\n",
    "    return 'A'\n"
   ]
  },
  {
   "cell_type": "code",
   "execution_count": 19,
   "id": "9ead6370",
   "metadata": {
    "id": "d5f3586d"
   },
   "outputs": [],
   "source": [
    "data['total_income_category'] = data['total_income'].apply(categorize_income)"
   ]
  },
  {
   "cell_type": "markdown",
   "id": "a5ad9d1f",
   "metadata": {
    "deletable": false,
    "editable": false,
    "id": "dde49b5c",
    "tags": [
     "start_task"
    ]
   },
   "source": [
    "**Задание 17. Выведите на экран перечень уникальных целей взятия кредита из столбца `purpose`.**"
   ]
  },
  {
   "cell_type": "code",
   "execution_count": 20,
   "id": "997c993a",
   "metadata": {
    "id": "f67ce9b3"
   },
   "outputs": [
    {
     "name": "stdout",
     "output_type": "stream",
     "text": [
      "['покупка жилья' 'приобретение автомобиля' 'дополнительное образование'\n",
      " 'сыграть свадьбу' 'операции с жильем' 'образование'\n",
      " 'на проведение свадьбы' 'покупка жилья для семьи' 'покупка недвижимости'\n",
      " 'покупка коммерческой недвижимости' 'покупка жилой недвижимости'\n",
      " 'строительство собственной недвижимости' 'недвижимость'\n",
      " 'строительство недвижимости' 'на покупку подержанного автомобиля'\n",
      " 'на покупку своего автомобиля' 'операции с коммерческой недвижимостью'\n",
      " 'строительство жилой недвижимости' 'жилье'\n",
      " 'операции со своей недвижимостью' 'автомобили' 'заняться образованием'\n",
      " 'сделка с подержанным автомобилем' 'получение образования' 'автомобиль'\n",
      " 'свадьба' 'получение дополнительного образования' 'покупка своего жилья'\n",
      " 'операции с недвижимостью' 'получение высшего образования'\n",
      " 'свой автомобиль' 'сделка с автомобилем' 'профильное образование'\n",
      " 'высшее образование' 'покупка жилья для сдачи' 'на покупку автомобиля'\n",
      " 'ремонт жилью' 'заняться высшим образованием']\n"
     ]
    }
   ],
   "source": [
    "print(data['purpose'].unique())"
   ]
  },
  {
   "cell_type": "markdown",
   "id": "0390ddee",
   "metadata": {
    "deletable": false,
    "editable": false,
    "id": "85d0aef0",
    "tags": [
     "start_task"
    ]
   },
   "source": [
    "**Задание 18. Создайте функцию, которая на основании данных из столбца `purpose` сформирует новый столбец `purpose_category`, в который войдут следующие категории:**\n",
    "\n",
    "- `'операции с автомобилем'`,\n",
    "- `'операции с недвижимостью'`,\n",
    "- `'проведение свадьбы'`,\n",
    "- `'получение образования'`.\n",
    "\n",
    "**Например, если в столбце `purpose` находится подстрока `'на покупку автомобиля'`, то в столбце `purpose_category` должна появиться строка `'операции с автомобилем'`.**\n",
    "\n",
    "**Используйте собственную функцию с именем `categorize_purpose()` и метод `apply()`. Изучите данные в столбце `purpose` и определите, какие подстроки помогут вам правильно определить категорию.**"
   ]
  },
  {
   "cell_type": "code",
   "execution_count": 30,
   "id": "1d55370d",
   "metadata": {
    "id": "e149fab4"
   },
   "outputs": [],
   "source": [
    "def categorize_purpose(row):\n",
    "    if 'авто' in row:\n",
    "        return 'операции с автомобилем'\n",
    "    if 'образ' in row:\n",
    "        return 'получение образования'\n",
    "    if 'свадь' in row:\n",
    "        return 'проведение свадьбы'\n",
    "    return 'операции с недвижимостью' "
   ]
  }
 ],
 "metadata": {
  "ExecuteTimeLog": [
   {
    "duration": 415,
    "start_time": "2022-07-11T09:43:41.065Z"
   },
   {
    "duration": 112,
    "start_time": "2022-07-11T09:43:43.265Z"
   },
   {
    "duration": 10,
    "start_time": "2022-07-11T09:44:12.705Z"
   },
   {
    "duration": 18,
    "start_time": "2022-07-11T09:44:41.650Z"
   },
   {
    "duration": 19,
    "start_time": "2022-07-11T09:45:05.137Z"
   },
   {
    "duration": 7,
    "start_time": "2022-07-11T11:00:55.863Z"
   },
   {
    "duration": 6,
    "start_time": "2022-07-11T11:26:03.473Z"
   },
   {
    "duration": 942,
    "start_time": "2022-07-11T11:28:41.950Z"
   },
   {
    "duration": 4,
    "start_time": "2022-07-11T11:32:16.677Z"
   },
   {
    "duration": 3,
    "start_time": "2022-07-11T11:33:13.538Z"
   },
   {
    "duration": 8,
    "start_time": "2022-07-11T11:33:26.729Z"
   },
   {
    "duration": 8,
    "start_time": "2022-07-11T11:34:09.564Z"
   },
   {
    "duration": 6,
    "start_time": "2022-07-11T11:37:38.097Z"
   },
   {
    "duration": 6,
    "start_time": "2022-07-11T11:37:44.721Z"
   },
   {
    "duration": 7,
    "start_time": "2022-07-11T11:37:53.962Z"
   },
   {
    "duration": 1352,
    "start_time": "2022-07-11T11:38:34.818Z"
   },
   {
    "duration": 5,
    "start_time": "2022-07-11T11:38:54.739Z"
   },
   {
    "duration": 902,
    "start_time": "2022-07-11T11:39:10.987Z"
   },
   {
    "duration": 15,
    "start_time": "2022-07-11T11:39:20.854Z"
   },
   {
    "duration": 13,
    "start_time": "2022-07-11T11:39:50.116Z"
   },
   {
    "duration": 10,
    "start_time": "2022-07-11T11:40:22.222Z"
   },
   {
    "duration": 5,
    "start_time": "2022-07-11T11:40:29.589Z"
   },
   {
    "duration": 4,
    "start_time": "2022-07-11T11:40:37.781Z"
   },
   {
    "duration": 13,
    "start_time": "2022-07-11T11:41:21.790Z"
   },
   {
    "duration": 998,
    "start_time": "2022-07-11T11:41:48.703Z"
   },
   {
    "duration": 13,
    "start_time": "2022-07-11T11:44:22.482Z"
   },
   {
    "duration": 1932,
    "start_time": "2022-07-11T11:45:02.955Z"
   },
   {
    "duration": 8,
    "start_time": "2022-07-11T11:45:12.440Z"
   },
   {
    "duration": 8,
    "start_time": "2022-07-11T11:45:50.909Z"
   },
   {
    "duration": 9,
    "start_time": "2022-07-11T11:46:17.589Z"
   },
   {
    "duration": 8,
    "start_time": "2022-07-11T11:46:35.285Z"
   },
   {
    "duration": 8,
    "start_time": "2022-07-11T11:46:43.894Z"
   },
   {
    "duration": 7,
    "start_time": "2022-07-11T12:06:54.038Z"
   },
   {
    "duration": 57,
    "start_time": "2022-07-11T12:07:19.892Z"
   },
   {
    "duration": 8,
    "start_time": "2022-07-11T12:07:27.252Z"
   },
   {
    "duration": 3,
    "start_time": "2022-07-11T12:07:37.773Z"
   },
   {
    "duration": 9,
    "start_time": "2022-07-11T12:08:21.990Z"
   },
   {
    "duration": 45,
    "start_time": "2022-07-12T06:18:35.990Z"
   },
   {
    "duration": 7,
    "start_time": "2022-07-12T06:19:33.509Z"
   },
   {
    "duration": 367,
    "start_time": "2022-07-12T06:19:39.799Z"
   },
   {
    "duration": 104,
    "start_time": "2022-07-12T06:19:40.168Z"
   },
   {
    "duration": 11,
    "start_time": "2022-07-12T06:19:40.273Z"
   },
   {
    "duration": 16,
    "start_time": "2022-07-12T06:19:40.285Z"
   },
   {
    "duration": 9,
    "start_time": "2022-07-12T06:19:40.303Z"
   },
   {
    "duration": 20,
    "start_time": "2022-07-12T06:19:40.314Z"
   },
   {
    "duration": 2,
    "start_time": "2022-07-12T06:19:40.336Z"
   },
   {
    "duration": 21,
    "start_time": "2022-07-12T06:19:40.340Z"
   },
   {
    "duration": 6,
    "start_time": "2022-07-12T06:19:40.363Z"
   },
   {
    "duration": 5,
    "start_time": "2022-07-12T06:19:40.370Z"
   },
   {
    "duration": 6,
    "start_time": "2022-07-12T06:19:40.377Z"
   },
   {
    "duration": 11,
    "start_time": "2022-07-12T06:19:40.385Z"
   },
   {
    "duration": 6,
    "start_time": "2022-07-12T06:19:40.398Z"
   },
   {
    "duration": 6,
    "start_time": "2022-07-12T06:19:40.407Z"
   },
   {
    "duration": 8,
    "start_time": "2022-07-12T06:19:40.414Z"
   },
   {
    "duration": 6,
    "start_time": "2022-07-12T06:19:40.424Z"
   },
   {
    "duration": 6,
    "start_time": "2022-07-12T06:19:40.431Z"
   },
   {
    "duration": 6,
    "start_time": "2022-07-12T06:19:40.438Z"
   },
   {
    "duration": 6,
    "start_time": "2022-07-12T06:19:40.446Z"
   },
   {
    "duration": 9,
    "start_time": "2022-07-12T06:19:40.453Z"
   },
   {
    "duration": 5,
    "start_time": "2022-07-12T06:19:40.463Z"
   },
   {
    "duration": 5,
    "start_time": "2022-07-12T06:19:40.470Z"
   },
   {
    "duration": 26,
    "start_time": "2022-07-12T06:19:59.831Z"
   },
   {
    "duration": 33,
    "start_time": "2022-07-12T06:22:56.307Z"
   },
   {
    "duration": 33,
    "start_time": "2022-07-12T11:18:25.674Z"
   },
   {
    "duration": 47,
    "start_time": "2022-07-13T11:45:45.962Z"
   },
   {
    "duration": 6,
    "start_time": "2022-07-13T11:47:02.874Z"
   },
   {
    "duration": 421,
    "start_time": "2022-07-13T11:47:11.910Z"
   },
   {
    "duration": 293,
    "start_time": "2022-07-13T11:47:12.333Z"
   },
   {
    "duration": 11,
    "start_time": "2022-07-13T11:47:12.628Z"
   },
   {
    "duration": 17,
    "start_time": "2022-07-13T11:47:12.641Z"
   },
   {
    "duration": 9,
    "start_time": "2022-07-13T11:47:12.661Z"
   },
   {
    "duration": 46,
    "start_time": "2022-07-13T11:47:12.671Z"
   },
   {
    "duration": 4,
    "start_time": "2022-07-13T11:47:12.718Z"
   },
   {
    "duration": 7,
    "start_time": "2022-07-13T11:47:12.724Z"
   },
   {
    "duration": 4,
    "start_time": "2022-07-13T11:47:12.733Z"
   },
   {
    "duration": 3,
    "start_time": "2022-07-13T11:47:12.740Z"
   },
   {
    "duration": 6,
    "start_time": "2022-07-13T11:47:12.744Z"
   },
   {
    "duration": 8,
    "start_time": "2022-07-13T11:47:12.751Z"
   },
   {
    "duration": 5,
    "start_time": "2022-07-13T11:47:12.761Z"
   },
   {
    "duration": 5,
    "start_time": "2022-07-13T11:47:12.768Z"
   },
   {
    "duration": 30,
    "start_time": "2022-07-13T11:47:12.774Z"
   },
   {
    "duration": 15,
    "start_time": "2022-07-13T11:47:12.806Z"
   },
   {
    "duration": 5,
    "start_time": "2022-07-13T11:47:12.823Z"
   },
   {
    "duration": 6,
    "start_time": "2022-07-13T11:47:12.830Z"
   },
   {
    "duration": 5,
    "start_time": "2022-07-13T11:47:12.837Z"
   },
   {
    "duration": 6,
    "start_time": "2022-07-13T11:47:12.843Z"
   },
   {
    "duration": 6,
    "start_time": "2022-07-13T11:47:12.851Z"
   },
   {
    "duration": 6,
    "start_time": "2022-07-13T11:47:12.858Z"
   },
   {
    "duration": 4,
    "start_time": "2022-07-13T11:47:28.478Z"
   },
   {
    "duration": 103,
    "start_time": "2022-07-13T11:51:39.817Z"
   },
   {
    "duration": 77,
    "start_time": "2022-07-13T11:52:03.054Z"
   },
   {
    "duration": 4,
    "start_time": "2022-07-13T11:52:42.659Z"
   },
   {
    "duration": 133,
    "start_time": "2022-07-13T11:52:42.666Z"
   },
   {
    "duration": 12,
    "start_time": "2022-07-13T11:52:42.801Z"
   },
   {
    "duration": 30,
    "start_time": "2022-07-13T11:52:42.814Z"
   },
   {
    "duration": 14,
    "start_time": "2022-07-13T11:52:42.847Z"
   },
   {
    "duration": 52,
    "start_time": "2022-07-13T11:52:42.864Z"
   },
   {
    "duration": 4,
    "start_time": "2022-07-13T11:52:42.920Z"
   },
   {
    "duration": 80,
    "start_time": "2022-07-13T11:52:42.926Z"
   },
   {
    "duration": 0,
    "start_time": "2022-07-13T11:52:43.009Z"
   },
   {
    "duration": 0,
    "start_time": "2022-07-13T11:52:43.011Z"
   },
   {
    "duration": 0,
    "start_time": "2022-07-13T11:52:43.013Z"
   },
   {
    "duration": 0,
    "start_time": "2022-07-13T11:52:43.015Z"
   },
   {
    "duration": 0,
    "start_time": "2022-07-13T11:52:43.018Z"
   },
   {
    "duration": 0,
    "start_time": "2022-07-13T11:52:43.021Z"
   },
   {
    "duration": 0,
    "start_time": "2022-07-13T11:52:43.023Z"
   },
   {
    "duration": 0,
    "start_time": "2022-07-13T11:52:43.025Z"
   },
   {
    "duration": 0,
    "start_time": "2022-07-13T11:52:43.027Z"
   },
   {
    "duration": 0,
    "start_time": "2022-07-13T11:52:43.028Z"
   },
   {
    "duration": 0,
    "start_time": "2022-07-13T11:52:43.030Z"
   },
   {
    "duration": 0,
    "start_time": "2022-07-13T11:52:43.031Z"
   },
   {
    "duration": 0,
    "start_time": "2022-07-13T11:52:43.033Z"
   },
   {
    "duration": 0,
    "start_time": "2022-07-13T11:52:43.034Z"
   },
   {
    "duration": 136,
    "start_time": "2022-07-13T11:54:02.065Z"
   },
   {
    "duration": 77,
    "start_time": "2022-07-13T11:54:57.869Z"
   },
   {
    "duration": 272,
    "start_time": "2022-07-13T11:55:03.567Z"
   },
   {
    "duration": 4,
    "start_time": "2022-07-13T11:56:32.358Z"
   },
   {
    "duration": 91,
    "start_time": "2022-07-13T11:56:32.365Z"
   },
   {
    "duration": 9,
    "start_time": "2022-07-13T11:56:32.457Z"
   },
   {
    "duration": 29,
    "start_time": "2022-07-13T11:56:32.468Z"
   },
   {
    "duration": 14,
    "start_time": "2022-07-13T11:56:32.505Z"
   },
   {
    "duration": 39,
    "start_time": "2022-07-13T11:56:32.521Z"
   },
   {
    "duration": 4,
    "start_time": "2022-07-13T11:56:32.562Z"
   },
   {
    "duration": 97,
    "start_time": "2022-07-13T11:56:32.568Z"
   },
   {
    "duration": 0,
    "start_time": "2022-07-13T11:56:32.668Z"
   },
   {
    "duration": 0,
    "start_time": "2022-07-13T11:56:32.670Z"
   },
   {
    "duration": 0,
    "start_time": "2022-07-13T11:56:32.671Z"
   },
   {
    "duration": 0,
    "start_time": "2022-07-13T11:56:32.673Z"
   },
   {
    "duration": 0,
    "start_time": "2022-07-13T11:56:32.674Z"
   },
   {
    "duration": 0,
    "start_time": "2022-07-13T11:56:32.675Z"
   },
   {
    "duration": 0,
    "start_time": "2022-07-13T11:56:32.676Z"
   },
   {
    "duration": 0,
    "start_time": "2022-07-13T11:56:32.677Z"
   },
   {
    "duration": 0,
    "start_time": "2022-07-13T11:56:32.678Z"
   },
   {
    "duration": 0,
    "start_time": "2022-07-13T11:56:32.679Z"
   },
   {
    "duration": 0,
    "start_time": "2022-07-13T11:56:32.681Z"
   },
   {
    "duration": 0,
    "start_time": "2022-07-13T11:56:32.682Z"
   },
   {
    "duration": 0,
    "start_time": "2022-07-13T11:56:32.682Z"
   },
   {
    "duration": 0,
    "start_time": "2022-07-13T11:56:32.683Z"
   },
   {
    "duration": 143,
    "start_time": "2022-07-13T11:57:06.506Z"
   },
   {
    "duration": 9,
    "start_time": "2022-07-13T11:58:41.994Z"
   },
   {
    "duration": 4,
    "start_time": "2022-07-13T11:59:15.785Z"
   },
   {
    "duration": 79,
    "start_time": "2022-07-13T12:11:08.473Z"
   },
   {
    "duration": 28,
    "start_time": "2022-07-13T12:12:13.266Z"
   },
   {
    "duration": 4,
    "start_time": "2022-07-13T12:12:26.065Z"
   },
   {
    "duration": 16,
    "start_time": "2022-07-13T12:16:22.263Z"
   },
   {
    "duration": 34,
    "start_time": "2022-07-13T12:41:08.658Z"
   },
   {
    "duration": 10,
    "start_time": "2022-07-13T12:42:00.299Z"
   },
   {
    "duration": 29,
    "start_time": "2022-07-13T12:42:57.612Z"
   },
   {
    "duration": 4,
    "start_time": "2022-07-13T12:43:01.463Z"
   },
   {
    "duration": 10,
    "start_time": "2022-07-13T12:43:49.109Z"
   },
   {
    "duration": 9,
    "start_time": "2022-07-13T12:43:52.493Z"
   },
   {
    "duration": 32,
    "start_time": "2022-07-13T12:44:16.757Z"
   },
   {
    "duration": 25,
    "start_time": "2022-07-13T12:44:32.078Z"
   },
   {
    "duration": 23,
    "start_time": "2022-07-13T12:45:45.096Z"
   },
   {
    "duration": 9,
    "start_time": "2022-07-13T13:21:07.879Z"
   },
   {
    "duration": 9,
    "start_time": "2022-07-13T13:23:08.996Z"
   },
   {
    "duration": 8,
    "start_time": "2022-07-13T13:23:50.843Z"
   },
   {
    "duration": 3,
    "start_time": "2022-07-13T13:24:13.569Z"
   },
   {
    "duration": 166,
    "start_time": "2022-07-13T13:24:13.574Z"
   },
   {
    "duration": 11,
    "start_time": "2022-07-13T13:24:13.741Z"
   },
   {
    "duration": 20,
    "start_time": "2022-07-13T13:24:13.753Z"
   },
   {
    "duration": 29,
    "start_time": "2022-07-13T13:24:13.776Z"
   },
   {
    "duration": 41,
    "start_time": "2022-07-13T13:24:13.808Z"
   },
   {
    "duration": 4,
    "start_time": "2022-07-13T13:24:13.850Z"
   },
   {
    "duration": 15,
    "start_time": "2022-07-13T13:24:13.856Z"
   },
   {
    "duration": 4,
    "start_time": "2022-07-13T13:24:13.874Z"
   },
   {
    "duration": 10,
    "start_time": "2022-07-13T13:24:13.904Z"
   },
   {
    "duration": 13,
    "start_time": "2022-07-13T13:24:13.915Z"
   },
   {
    "duration": 39,
    "start_time": "2022-07-13T13:24:13.930Z"
   },
   {
    "duration": 9,
    "start_time": "2022-07-13T13:24:13.971Z"
   },
   {
    "duration": 24,
    "start_time": "2022-07-13T13:24:13.982Z"
   },
   {
    "duration": 23,
    "start_time": "2022-07-13T13:24:14.008Z"
   },
   {
    "duration": 20,
    "start_time": "2022-07-13T13:24:14.033Z"
   },
   {
    "duration": 3,
    "start_time": "2022-07-13T13:24:14.055Z"
   },
   {
    "duration": 7,
    "start_time": "2022-07-13T13:24:14.060Z"
   },
   {
    "duration": 6,
    "start_time": "2022-07-13T13:24:14.069Z"
   },
   {
    "duration": 28,
    "start_time": "2022-07-13T13:24:14.077Z"
   },
   {
    "duration": 20,
    "start_time": "2022-07-13T13:24:14.107Z"
   },
   {
    "duration": 12,
    "start_time": "2022-07-13T13:25:40.088Z"
   },
   {
    "duration": 466,
    "start_time": "2022-07-13T13:39:58.074Z"
   },
   {
    "duration": 12,
    "start_time": "2022-07-13T13:41:01.775Z"
   },
   {
    "duration": 11,
    "start_time": "2022-07-13T13:41:18.916Z"
   },
   {
    "duration": 6,
    "start_time": "2022-07-13T13:42:01.089Z"
   },
   {
    "duration": 98,
    "start_time": "2022-07-13T13:49:16.634Z"
   },
   {
    "duration": 149,
    "start_time": "2022-07-13T13:49:28.711Z"
   },
   {
    "duration": 122,
    "start_time": "2022-07-13T13:49:38.014Z"
   },
   {
    "duration": 3,
    "start_time": "2022-07-13T13:49:42.491Z"
   },
   {
    "duration": 9,
    "start_time": "2022-07-13T13:50:45.076Z"
   },
   {
    "duration": 18,
    "start_time": "2022-07-13T13:51:24.037Z"
   },
   {
    "duration": 3,
    "start_time": "2022-07-13T13:55:23.514Z"
   },
   {
    "duration": 7,
    "start_time": "2022-07-13T13:55:24.890Z"
   },
   {
    "duration": 12,
    "start_time": "2022-07-13T13:55:25.890Z"
   },
   {
    "duration": 3,
    "start_time": "2022-07-13T13:57:22.653Z"
   },
   {
    "duration": 7,
    "start_time": "2022-07-13T13:57:23.253Z"
   },
   {
    "duration": 13,
    "start_time": "2022-07-13T13:57:23.821Z"
   },
   {
    "duration": 5,
    "start_time": "2022-07-13T13:57:40.809Z"
   },
   {
    "duration": 72,
    "start_time": "2022-07-13T13:57:40.817Z"
   },
   {
    "duration": 9,
    "start_time": "2022-07-13T13:57:40.891Z"
   },
   {
    "duration": 29,
    "start_time": "2022-07-13T13:57:40.903Z"
   },
   {
    "duration": 11,
    "start_time": "2022-07-13T13:57:40.933Z"
   },
   {
    "duration": 37,
    "start_time": "2022-07-13T13:57:40.946Z"
   },
   {
    "duration": 3,
    "start_time": "2022-07-13T13:57:40.985Z"
   },
   {
    "duration": 14,
    "start_time": "2022-07-13T13:57:40.990Z"
   },
   {
    "duration": 13,
    "start_time": "2022-07-13T13:57:41.006Z"
   },
   {
    "duration": 10,
    "start_time": "2022-07-13T13:57:41.021Z"
   },
   {
    "duration": 7,
    "start_time": "2022-07-13T13:57:41.032Z"
   },
   {
    "duration": 32,
    "start_time": "2022-07-13T13:57:41.041Z"
   },
   {
    "duration": 8,
    "start_time": "2022-07-13T13:57:41.075Z"
   },
   {
    "duration": 32,
    "start_time": "2022-07-13T13:57:41.085Z"
   },
   {
    "duration": 19,
    "start_time": "2022-07-13T13:57:41.118Z"
   },
   {
    "duration": 19,
    "start_time": "2022-07-13T13:57:41.138Z"
   },
   {
    "duration": 11,
    "start_time": "2022-07-13T13:57:41.159Z"
   },
   {
    "duration": 5,
    "start_time": "2022-07-13T13:57:41.172Z"
   },
   {
    "duration": 14,
    "start_time": "2022-07-13T13:57:41.179Z"
   },
   {
    "duration": 11,
    "start_time": "2022-07-13T13:57:41.205Z"
   },
   {
    "duration": 5,
    "start_time": "2022-07-13T13:57:41.219Z"
   },
   {
    "duration": 8,
    "start_time": "2022-07-13T13:57:41.226Z"
   },
   {
    "duration": 12,
    "start_time": "2022-07-13T13:57:41.236Z"
   },
   {
    "duration": 401,
    "start_time": "2022-07-13T13:58:09.692Z"
   },
   {
    "duration": 84,
    "start_time": "2022-07-13T13:58:10.094Z"
   },
   {
    "duration": 12,
    "start_time": "2022-07-13T13:58:10.180Z"
   },
   {
    "duration": 40,
    "start_time": "2022-07-13T13:58:10.193Z"
   },
   {
    "duration": 9,
    "start_time": "2022-07-13T13:58:10.234Z"
   },
   {
    "duration": 33,
    "start_time": "2022-07-13T13:58:10.245Z"
   },
   {
    "duration": 3,
    "start_time": "2022-07-13T13:58:10.280Z"
   },
   {
    "duration": 10,
    "start_time": "2022-07-13T13:58:10.284Z"
   },
   {
    "duration": 12,
    "start_time": "2022-07-13T13:58:10.295Z"
   },
   {
    "duration": 18,
    "start_time": "2022-07-13T13:58:10.311Z"
   },
   {
    "duration": 5,
    "start_time": "2022-07-13T13:58:10.331Z"
   },
   {
    "duration": 34,
    "start_time": "2022-07-13T13:58:10.337Z"
   },
   {
    "duration": 8,
    "start_time": "2022-07-13T13:58:10.372Z"
   },
   {
    "duration": 4,
    "start_time": "2022-07-13T13:58:10.382Z"
   },
   {
    "duration": 36,
    "start_time": "2022-07-13T13:58:10.388Z"
   },
   {
    "duration": 18,
    "start_time": "2022-07-13T13:58:10.425Z"
   },
   {
    "duration": 10,
    "start_time": "2022-07-13T13:58:10.444Z"
   },
   {
    "duration": 5,
    "start_time": "2022-07-13T13:58:10.456Z"
   },
   {
    "duration": 12,
    "start_time": "2022-07-13T13:58:10.462Z"
   },
   {
    "duration": 37,
    "start_time": "2022-07-13T13:58:10.475Z"
   },
   {
    "duration": 6,
    "start_time": "2022-07-13T13:58:10.513Z"
   },
   {
    "duration": 9,
    "start_time": "2022-07-13T13:58:10.521Z"
   },
   {
    "duration": 12,
    "start_time": "2022-07-13T13:58:10.532Z"
   },
   {
    "duration": 3,
    "start_time": "2022-07-13T14:01:24.688Z"
   },
   {
    "duration": 16,
    "start_time": "2022-07-13T14:01:25.304Z"
   },
   {
    "duration": 14,
    "start_time": "2022-07-13T14:01:25.903Z"
   },
   {
    "duration": 3,
    "start_time": "2022-07-13T14:01:40.384Z"
   },
   {
    "duration": 8,
    "start_time": "2022-07-13T14:01:40.888Z"
   },
   {
    "duration": 410,
    "start_time": "2022-07-13T14:02:51.388Z"
   },
   {
    "duration": 74,
    "start_time": "2022-07-13T14:02:51.800Z"
   },
   {
    "duration": 9,
    "start_time": "2022-07-13T14:02:51.875Z"
   },
   {
    "duration": 16,
    "start_time": "2022-07-13T14:02:51.886Z"
   },
   {
    "duration": 17,
    "start_time": "2022-07-13T14:02:51.904Z"
   },
   {
    "duration": 34,
    "start_time": "2022-07-13T14:02:51.923Z"
   },
   {
    "duration": 3,
    "start_time": "2022-07-13T14:02:51.959Z"
   },
   {
    "duration": 11,
    "start_time": "2022-07-13T14:02:51.964Z"
   },
   {
    "duration": 5,
    "start_time": "2022-07-13T14:02:51.976Z"
   },
   {
    "duration": 11,
    "start_time": "2022-07-13T14:02:51.983Z"
   },
   {
    "duration": 4,
    "start_time": "2022-07-13T14:02:52.004Z"
   },
   {
    "duration": 46,
    "start_time": "2022-07-13T14:02:52.011Z"
   },
   {
    "duration": 9,
    "start_time": "2022-07-13T14:02:52.058Z"
   },
   {
    "duration": 8,
    "start_time": "2022-07-13T14:02:52.070Z"
   },
   {
    "duration": 32,
    "start_time": "2022-07-13T14:02:52.080Z"
   },
   {
    "duration": 23,
    "start_time": "2022-07-13T14:02:52.114Z"
   },
   {
    "duration": 12,
    "start_time": "2022-07-13T14:02:52.138Z"
   },
   {
    "duration": 8,
    "start_time": "2022-07-13T14:02:52.152Z"
   },
   {
    "duration": 14,
    "start_time": "2022-07-13T14:02:52.161Z"
   },
   {
    "duration": 9,
    "start_time": "2022-07-13T14:02:52.177Z"
   },
   {
    "duration": 4,
    "start_time": "2022-07-13T14:02:52.187Z"
   },
   {
    "duration": 8,
    "start_time": "2022-07-13T14:02:52.214Z"
   },
   {
    "duration": 3,
    "start_time": "2022-07-13T14:03:57.066Z"
   },
   {
    "duration": 11,
    "start_time": "2022-07-13T14:03:57.698Z"
   },
   {
    "duration": 12,
    "start_time": "2022-07-13T14:04:45.996Z"
   },
   {
    "duration": 10,
    "start_time": "2022-07-13T14:06:08.269Z"
   },
   {
    "duration": 12,
    "start_time": "2022-07-13T14:07:17.303Z"
   },
   {
    "duration": 3,
    "start_time": "2022-07-13T14:08:57.083Z"
   },
   {
    "duration": 8,
    "start_time": "2022-07-13T14:08:58.290Z"
   },
   {
    "duration": 3,
    "start_time": "2022-07-13T14:10:01.580Z"
   },
   {
    "duration": 7,
    "start_time": "2022-07-13T14:10:02.053Z"
   }
  ],
  "colab": {
   "name": "dpp_template_part1.ipynb",
   "provenance": []
  },
  "kernelspec": {
   "display_name": "Python 3 (ipykernel)",
   "language": "python",
   "name": "python3"
  },
  "language_info": {
   "codemirror_mode": {
    "name": "ipython",
    "version": 3
   },
   "file_extension": ".py",
   "mimetype": "text/x-python",
   "name": "python",
   "nbconvert_exporter": "python",
   "pygments_lexer": "ipython3",
   "version": "3.9.12"
  },
  "toc": {
   "base_numbering": 1,
   "nav_menu": {},
   "number_sections": true,
   "sideBar": true,
   "skip_h1_title": true,
   "title_cell": "Table of Contents",
   "title_sidebar": "Contents",
   "toc_cell": false,
   "toc_position": {},
   "toc_section_display": true,
   "toc_window_display": false
  }
 },
 "nbformat": 4,
 "nbformat_minor": 5
}
